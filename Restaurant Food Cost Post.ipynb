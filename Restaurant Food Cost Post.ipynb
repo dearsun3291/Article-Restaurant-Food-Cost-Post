{
 "cells": [
  {
   "cell_type": "markdown",
   "metadata": {},
   "source": [
    "# Restaurant Cost prediction"
   ]
  },
  {
   "cell_type": "markdown",
   "metadata": {},
   "source": [
    "## 1. Problem Definition\n",
    "\n",
    "With this project, we will develop a supervisory machine learning model to predict the cost of a meal for different restaurants across the country based on various features, though keep in mind that the same data can be used in multiple ways such that even to predict the rating of various restaurants or by the business owners to predict area-wide pricing, etc but for now let's just restrict to predicting prices.\n",
    "It is also important to understand that there can multiple ways to solve this problem depending on the objective. We can use advanced techniques for univariate & bivariate analysis like statistical tests, feature engineering techniques like filter method, wrapper method or embedded methods and data imbalance treatment, etc would yield an even better result. For simplicity and learning I have kept my approach very simple and one step at a time.\n",
    "\n",
    "Since our target variable i.e cost is continuous in nature hence we are going to build a regression model to solve our problem."
   ]
  },
  {
   "cell_type": "markdown",
   "metadata": {},
   "source": [
    "### Importing required libraries"
   ]
  },
  {
   "cell_type": "markdown",
   "metadata": {},
   "source": [
    "Import all required libraries, though most commonly used libraries can be used using pyforest, and rest can be called upon when needed.\n",
    "\n",
    "(To install pyforest simply run !pip install pyforest)"
   ]
  },
  {
   "cell_type": "markdown",
   "metadata": {},
   "source": [
    "### Importing datasets\n",
    "\n",
    "Download dataset from \"https://github.com/dsrscientist/Data-Science-ML-Capstone-Projects\""
   ]
  },
  {
   "cell_type": "code",
   "execution_count": 560,
   "metadata": {},
   "outputs": [
    {
     "data": {
      "application/javascript": [
       "\n",
       "        if (window._pyforest_update_imports_cell) { window._pyforest_update_imports_cell('import numpy as np\\nimport matplotlib.pyplot as plt\\nimport seaborn as sns\\nimport pandas as pd'); }\n",
       "    "
      ],
      "text/plain": [
       "<IPython.core.display.Javascript object>"
      ]
     },
     "metadata": {},
     "output_type": "display_data"
    }
   ],
   "source": [
    "res_train = pd.read_excel('Restra_Data_Train.xlsx')"
   ]
  },
  {
   "cell_type": "code",
   "execution_count": 561,
   "metadata": {},
   "outputs": [
    {
     "data": {
      "application/javascript": [
       "\n",
       "        if (window._pyforest_update_imports_cell) { window._pyforest_update_imports_cell('import numpy as np\\nimport matplotlib.pyplot as plt\\nimport seaborn as sns\\nimport pandas as pd'); }\n",
       "    "
      ],
      "text/plain": [
       "<IPython.core.display.Javascript object>"
      ]
     },
     "metadata": {},
     "output_type": "display_data"
    }
   ],
   "source": [
    "res_test = pd.read_excel('Restra_Data_Test.xlsx')"
   ]
  },
  {
   "cell_type": "markdown",
   "metadata": {},
   "source": [
    "### Loading datasets"
   ]
  },
  {
   "cell_type": "code",
   "execution_count": 562,
   "metadata": {},
   "outputs": [
    {
     "data": {
      "text/html": [
       "<div>\n",
       "<style scoped>\n",
       "    .dataframe tbody tr th:only-of-type {\n",
       "        vertical-align: middle;\n",
       "    }\n",
       "\n",
       "    .dataframe tbody tr th {\n",
       "        vertical-align: top;\n",
       "    }\n",
       "\n",
       "    .dataframe thead th {\n",
       "        text-align: right;\n",
       "    }\n",
       "</style>\n",
       "<table border=\"1\" class=\"dataframe\">\n",
       "  <thead>\n",
       "    <tr style=\"text-align: right;\">\n",
       "      <th></th>\n",
       "      <th>TITLE</th>\n",
       "      <th>RESTAURANT_ID</th>\n",
       "      <th>CUISINES</th>\n",
       "      <th>TIME</th>\n",
       "      <th>CITY</th>\n",
       "      <th>LOCALITY</th>\n",
       "      <th>RATING</th>\n",
       "      <th>VOTES</th>\n",
       "      <th>COST</th>\n",
       "    </tr>\n",
       "  </thead>\n",
       "  <tbody>\n",
       "    <tr>\n",
       "      <th>0</th>\n",
       "      <td>CASUAL DINING</td>\n",
       "      <td>9438</td>\n",
       "      <td>Malwani, Goan, North Indian</td>\n",
       "      <td>11am – 4pm, 7:30pm – 11:30pm (Mon-Sun)</td>\n",
       "      <td>Thane</td>\n",
       "      <td>Dombivali East</td>\n",
       "      <td>3.6</td>\n",
       "      <td>49 votes</td>\n",
       "      <td>1200</td>\n",
       "    </tr>\n",
       "    <tr>\n",
       "      <th>1</th>\n",
       "      <td>CASUAL DINING,BAR</td>\n",
       "      <td>13198</td>\n",
       "      <td>Asian, Modern Indian, Japanese</td>\n",
       "      <td>6pm – 11pm (Mon-Sun)</td>\n",
       "      <td>Chennai</td>\n",
       "      <td>Ramapuram</td>\n",
       "      <td>4.2</td>\n",
       "      <td>30 votes</td>\n",
       "      <td>1500</td>\n",
       "    </tr>\n",
       "    <tr>\n",
       "      <th>2</th>\n",
       "      <td>CASUAL DINING</td>\n",
       "      <td>10915</td>\n",
       "      <td>North Indian, Chinese, Biryani, Hyderabadi</td>\n",
       "      <td>11am – 3:30pm, 7pm – 11pm (Mon-Sun)</td>\n",
       "      <td>Chennai</td>\n",
       "      <td>Saligramam</td>\n",
       "      <td>3.8</td>\n",
       "      <td>221 votes</td>\n",
       "      <td>800</td>\n",
       "    </tr>\n",
       "    <tr>\n",
       "      <th>3</th>\n",
       "      <td>QUICK BITES</td>\n",
       "      <td>6346</td>\n",
       "      <td>Tibetan, Chinese</td>\n",
       "      <td>11:30am – 1am (Mon-Sun)</td>\n",
       "      <td>Mumbai</td>\n",
       "      <td>Bandra West</td>\n",
       "      <td>4.1</td>\n",
       "      <td>24 votes</td>\n",
       "      <td>800</td>\n",
       "    </tr>\n",
       "    <tr>\n",
       "      <th>4</th>\n",
       "      <td>DESSERT PARLOR</td>\n",
       "      <td>15387</td>\n",
       "      <td>Desserts</td>\n",
       "      <td>11am – 1am (Mon-Sun)</td>\n",
       "      <td>Mumbai</td>\n",
       "      <td>Lower Parel</td>\n",
       "      <td>3.8</td>\n",
       "      <td>165 votes</td>\n",
       "      <td>300</td>\n",
       "    </tr>\n",
       "  </tbody>\n",
       "</table>\n",
       "</div>"
      ],
      "text/plain": [
       "               TITLE  RESTAURANT_ID  \\\n",
       "0      CASUAL DINING           9438   \n",
       "1  CASUAL DINING,BAR          13198   \n",
       "2      CASUAL DINING          10915   \n",
       "3        QUICK BITES           6346   \n",
       "4     DESSERT PARLOR          15387   \n",
       "\n",
       "                                     CUISINES  \\\n",
       "0                 Malwani, Goan, North Indian   \n",
       "1              Asian, Modern Indian, Japanese   \n",
       "2  North Indian, Chinese, Biryani, Hyderabadi   \n",
       "3                            Tibetan, Chinese   \n",
       "4                                    Desserts   \n",
       "\n",
       "                                     TIME     CITY        LOCALITY RATING  \\\n",
       "0  11am – 4pm, 7:30pm – 11:30pm (Mon-Sun)    Thane  Dombivali East    3.6   \n",
       "1                    6pm – 11pm (Mon-Sun)  Chennai       Ramapuram    4.2   \n",
       "2     11am – 3:30pm, 7pm – 11pm (Mon-Sun)  Chennai      Saligramam    3.8   \n",
       "3                 11:30am – 1am (Mon-Sun)   Mumbai     Bandra West    4.1   \n",
       "4                    11am – 1am (Mon-Sun)   Mumbai     Lower Parel    3.8   \n",
       "\n",
       "       VOTES  COST  \n",
       "0   49 votes  1200  \n",
       "1   30 votes  1500  \n",
       "2  221 votes   800  \n",
       "3   24 votes   800  \n",
       "4  165 votes   300  "
      ]
     },
     "execution_count": 562,
     "metadata": {},
     "output_type": "execute_result"
    }
   ],
   "source": [
    "res_train.head() # Train dataset"
   ]
  },
  {
   "cell_type": "code",
   "execution_count": 563,
   "metadata": {},
   "outputs": [
    {
     "data": {
      "text/html": [
       "<div>\n",
       "<style scoped>\n",
       "    .dataframe tbody tr th:only-of-type {\n",
       "        vertical-align: middle;\n",
       "    }\n",
       "\n",
       "    .dataframe tbody tr th {\n",
       "        vertical-align: top;\n",
       "    }\n",
       "\n",
       "    .dataframe thead th {\n",
       "        text-align: right;\n",
       "    }\n",
       "</style>\n",
       "<table border=\"1\" class=\"dataframe\">\n",
       "  <thead>\n",
       "    <tr style=\"text-align: right;\">\n",
       "      <th></th>\n",
       "      <th>TITLE</th>\n",
       "      <th>RESTAURANT_ID</th>\n",
       "      <th>CUISINES</th>\n",
       "      <th>TIME</th>\n",
       "      <th>CITY</th>\n",
       "      <th>LOCALITY</th>\n",
       "      <th>RATING</th>\n",
       "      <th>VOTES</th>\n",
       "    </tr>\n",
       "  </thead>\n",
       "  <tbody>\n",
       "    <tr>\n",
       "      <th>0</th>\n",
       "      <td>CASUAL DINING</td>\n",
       "      <td>4085</td>\n",
       "      <td>North Indian, Chinese, Mughlai, Kebab</td>\n",
       "      <td>12noon – 12midnight (Mon-Sun)</td>\n",
       "      <td>Noida</td>\n",
       "      <td>Sector 18</td>\n",
       "      <td>4.3</td>\n",
       "      <td>564 votes</td>\n",
       "    </tr>\n",
       "    <tr>\n",
       "      <th>1</th>\n",
       "      <td>QUICK BITES</td>\n",
       "      <td>12680</td>\n",
       "      <td>South Indian, Fast Food, Pizza, North Indian</td>\n",
       "      <td>7am – 12:30AM (Mon-Sun)</td>\n",
       "      <td>Mumbai</td>\n",
       "      <td>Grant Road</td>\n",
       "      <td>4.2</td>\n",
       "      <td>61 votes</td>\n",
       "    </tr>\n",
       "    <tr>\n",
       "      <th>2</th>\n",
       "      <td>CASUAL DINING</td>\n",
       "      <td>1411</td>\n",
       "      <td>North Indian, Seafood, Biryani, Chinese</td>\n",
       "      <td>11am – 11:30pm (Mon-Sun)</td>\n",
       "      <td>Mumbai</td>\n",
       "      <td>Marine Lines</td>\n",
       "      <td>3.8</td>\n",
       "      <td>350 votes</td>\n",
       "    </tr>\n",
       "    <tr>\n",
       "      <th>3</th>\n",
       "      <td>None</td>\n",
       "      <td>204</td>\n",
       "      <td>Biryani</td>\n",
       "      <td>9am – 10pm (Mon, Wed, Thu, Fri, Sat, Sun), 10:...</td>\n",
       "      <td>Faridabad</td>\n",
       "      <td>NIT</td>\n",
       "      <td>3.8</td>\n",
       "      <td>1445 votes</td>\n",
       "    </tr>\n",
       "    <tr>\n",
       "      <th>4</th>\n",
       "      <td>QUICK BITES</td>\n",
       "      <td>13453</td>\n",
       "      <td>South Indian, Kerala</td>\n",
       "      <td>11am – 10pm (Mon-Sun)</td>\n",
       "      <td>Kochi</td>\n",
       "      <td>Kaloor</td>\n",
       "      <td>3.6</td>\n",
       "      <td>23 votes</td>\n",
       "    </tr>\n",
       "  </tbody>\n",
       "</table>\n",
       "</div>"
      ],
      "text/plain": [
       "           TITLE  RESTAURANT_ID                                      CUISINES  \\\n",
       "0  CASUAL DINING           4085         North Indian, Chinese, Mughlai, Kebab   \n",
       "1    QUICK BITES          12680  South Indian, Fast Food, Pizza, North Indian   \n",
       "2  CASUAL DINING           1411       North Indian, Seafood, Biryani, Chinese   \n",
       "3           None            204                                       Biryani   \n",
       "4    QUICK BITES          13453                          South Indian, Kerala   \n",
       "\n",
       "                                                TIME       CITY      LOCALITY  \\\n",
       "0                      12noon – 12midnight (Mon-Sun)      Noida     Sector 18   \n",
       "1                            7am – 12:30AM (Mon-Sun)     Mumbai    Grant Road   \n",
       "2                           11am – 11:30pm (Mon-Sun)     Mumbai  Marine Lines   \n",
       "3  9am – 10pm (Mon, Wed, Thu, Fri, Sat, Sun), 10:...  Faridabad           NIT   \n",
       "4                              11am – 10pm (Mon-Sun)      Kochi        Kaloor   \n",
       "\n",
       "  RATING       VOTES  \n",
       "0    4.3   564 votes  \n",
       "1    4.2    61 votes  \n",
       "2    3.8   350 votes  \n",
       "3    3.8  1445 votes  \n",
       "4    3.6    23 votes  "
      ]
     },
     "execution_count": 563,
     "metadata": {},
     "output_type": "execute_result"
    }
   ],
   "source": [
    "res_test.head() # Test dataset"
   ]
  },
  {
   "cell_type": "markdown",
   "metadata": {},
   "source": [
    "**About the Data Set:**\n",
    "    \n",
    "We have got here is training set & test set in excel format, consisting of-\n",
    "- Training set:12,690  records\n",
    "\n",
    "- Test set: 4,231 records\n",
    "\n",
    "\n",
    "Columns/Features Details:\n",
    "1. TITLE: The feature of the restaurant which can help identify what and for whom it is suitable.\n",
    "2. RESTAURANT_ID: A unique ID for each restaurant.\n",
    "3. CUISINES: The variety of cuisines that the restaurant offers.\n",
    "4. TIME: The open hours of the restaurant.\n",
    "5. CITY: The city in which the restaurant is located.\n",
    "6. LOCALITY: The locality of the restaurant.\n",
    "7. RATING: The average rating of the restaurant by customers.\n",
    "8. VOTES: The overall votes received by the restaurant.\n",
    "9. COST: The average cost of a two-person meal."
   ]
  },
  {
   "cell_type": "markdown",
   "metadata": {},
   "source": [
    "## 2. Data Analysis (Performing Exploratory Data Analysis)\n",
    "\n",
    "If not the most critical I would term it as a decisive step in the project life cycle where we get to know characteristics of our dataset and to extract all possible information from it, which will, in turn, become the base of our strategy for cleaning & prepare our dataset for the showdown. Typically can use both graphical as well as numerical methods for our analysis.\n",
    "\n",
    "\n",
    "### Now without dawdling let us dig deep into it, with first things first:\n"
   ]
  },
  {
   "cell_type": "code",
   "execution_count": 564,
   "metadata": {},
   "outputs": [
    {
     "data": {
      "text/plain": [
       "((12690, 9), (4231, 8))"
      ]
     },
     "execution_count": 564,
     "metadata": {},
     "output_type": "execute_result"
    }
   ],
   "source": [
    "# Checking shape of Train  & Test dataset\n",
    "res_train.shape,res_test.shape "
   ]
  },
  {
   "cell_type": "markdown",
   "metadata": {},
   "source": [
    "Our training data has (12690, 9), test data has (4231, 8) rows and columns respectively. We can see that the test data set has one column less which is what we need to predict (COST) after training our model.\n",
    "\n",
    "\n",
    "To analyze & process both datasets together we can concatenate them but before that let us add an Identifier as 'Test' & 'Train' to both datasets for the sake of identification."
   ]
  },
  {
   "cell_type": "code",
   "execution_count": 565,
   "metadata": {},
   "outputs": [
    {
     "data": {
      "application/javascript": [
       "\n",
       "        if (window._pyforest_update_imports_cell) { window._pyforest_update_imports_cell('import numpy as np\\nimport matplotlib.pyplot as plt\\nimport seaborn as sns\\nimport pandas as pd'); }\n",
       "    "
      ],
      "text/plain": [
       "<IPython.core.display.Javascript object>"
      ]
     },
     "metadata": {},
     "output_type": "display_data"
    }
   ],
   "source": [
    "# Adding a column for dataset identification\n",
    "res_test['Identify']= 'Test'\n",
    "res_train['Identify']='Train'\n",
    " # Concatinating both datasets\n",
    "res = pd.concat([res_train,res_test], ignore_index = True)"
   ]
  },
  {
   "cell_type": "markdown",
   "metadata": {},
   "source": [
    "Have a quick glimpse/check of our dataset sample."
   ]
  },
  {
   "cell_type": "code",
   "execution_count": 566,
   "metadata": {},
   "outputs": [
    {
     "data": {
      "text/html": [
       "<div>\n",
       "<style scoped>\n",
       "    .dataframe tbody tr th:only-of-type {\n",
       "        vertical-align: middle;\n",
       "    }\n",
       "\n",
       "    .dataframe tbody tr th {\n",
       "        vertical-align: top;\n",
       "    }\n",
       "\n",
       "    .dataframe thead th {\n",
       "        text-align: right;\n",
       "    }\n",
       "</style>\n",
       "<table border=\"1\" class=\"dataframe\">\n",
       "  <thead>\n",
       "    <tr style=\"text-align: right;\">\n",
       "      <th></th>\n",
       "      <th>TITLE</th>\n",
       "      <th>RESTAURANT_ID</th>\n",
       "      <th>CUISINES</th>\n",
       "      <th>TIME</th>\n",
       "      <th>CITY</th>\n",
       "      <th>LOCALITY</th>\n",
       "      <th>RATING</th>\n",
       "      <th>VOTES</th>\n",
       "      <th>COST</th>\n",
       "      <th>Identify</th>\n",
       "    </tr>\n",
       "  </thead>\n",
       "  <tbody>\n",
       "    <tr>\n",
       "      <th>535</th>\n",
       "      <td>CASUAL DINING</td>\n",
       "      <td>3907</td>\n",
       "      <td>North Indian, Chinese, Mughlai</td>\n",
       "      <td>11:59am – 12midnight (Mon-Sun)</td>\n",
       "      <td>Noida</td>\n",
       "      <td>Sector 18</td>\n",
       "      <td>4.2</td>\n",
       "      <td>954 votes</td>\n",
       "      <td>1000.0</td>\n",
       "      <td>Train</td>\n",
       "    </tr>\n",
       "    <tr>\n",
       "      <th>3354</th>\n",
       "      <td>LOUNGE</td>\n",
       "      <td>14418</td>\n",
       "      <td>North Indian, Chinese</td>\n",
       "      <td>12noon – 1am (Mon-Sun)</td>\n",
       "      <td>Mumbai</td>\n",
       "      <td>Vile Parle East</td>\n",
       "      <td>4.5</td>\n",
       "      <td>311 votes</td>\n",
       "      <td>1000.0</td>\n",
       "      <td>Train</td>\n",
       "    </tr>\n",
       "    <tr>\n",
       "      <th>3391</th>\n",
       "      <td>QUICK BITES</td>\n",
       "      <td>11287</td>\n",
       "      <td>Fast Food, Mithai</td>\n",
       "      <td>9am – 12midnight (Mon-Sun)</td>\n",
       "      <td>Kochi</td>\n",
       "      <td>Edappally</td>\n",
       "      <td>-</td>\n",
       "      <td>NaN</td>\n",
       "      <td>200.0</td>\n",
       "      <td>Train</td>\n",
       "    </tr>\n",
       "    <tr>\n",
       "      <th>2574</th>\n",
       "      <td>CASUAL DINING</td>\n",
       "      <td>809</td>\n",
       "      <td>Chinese, North Indian</td>\n",
       "      <td>1pm – 11:30pm (Mon-Sun)</td>\n",
       "      <td>Hyderabad</td>\n",
       "      <td>Himayath Nagar</td>\n",
       "      <td>3.8</td>\n",
       "      <td>190 votes</td>\n",
       "      <td>400.0</td>\n",
       "      <td>Train</td>\n",
       "    </tr>\n",
       "    <tr>\n",
       "      <th>11569</th>\n",
       "      <td>QUICK BITES</td>\n",
       "      <td>4954</td>\n",
       "      <td>Desserts</td>\n",
       "      <td>10am – 11:30pm (Mon-Sun)</td>\n",
       "      <td>Kochi</td>\n",
       "      <td>Vyttila</td>\n",
       "      <td>-</td>\n",
       "      <td>NaN</td>\n",
       "      <td>400.0</td>\n",
       "      <td>Train</td>\n",
       "    </tr>\n",
       "  </tbody>\n",
       "</table>\n",
       "</div>"
      ],
      "text/plain": [
       "               TITLE  RESTAURANT_ID                        CUISINES  \\\n",
       "535    CASUAL DINING           3907  North Indian, Chinese, Mughlai   \n",
       "3354          LOUNGE          14418           North Indian, Chinese   \n",
       "3391     QUICK BITES          11287               Fast Food, Mithai   \n",
       "2574   CASUAL DINING            809           Chinese, North Indian   \n",
       "11569    QUICK BITES           4954                        Desserts   \n",
       "\n",
       "                                 TIME       CITY         LOCALITY RATING  \\\n",
       "535    11:59am – 12midnight (Mon-Sun)      Noida        Sector 18    4.2   \n",
       "3354           12noon – 1am (Mon-Sun)     Mumbai  Vile Parle East    4.5   \n",
       "3391       9am – 12midnight (Mon-Sun)      Kochi        Edappally      -   \n",
       "2574          1pm – 11:30pm (Mon-Sun)  Hyderabad   Himayath Nagar    3.8   \n",
       "11569        10am – 11:30pm (Mon-Sun)      Kochi          Vyttila      -   \n",
       "\n",
       "           VOTES    COST Identify  \n",
       "535    954 votes  1000.0    Train  \n",
       "3354   311 votes  1000.0    Train  \n",
       "3391         NaN   200.0    Train  \n",
       "2574   190 votes   400.0    Train  \n",
       "11569        NaN   400.0    Train  "
      ]
     },
     "execution_count": 566,
     "metadata": {},
     "output_type": "execute_result"
    }
   ],
   "source": [
    "res.sample(5)"
   ]
  },
  {
   "cell_type": "markdown",
   "metadata": {},
   "source": [
    "This tells us that features like Title, cuisines, time, votes carry multiple information in the same column separated by various delimiters.\n",
    "\n",
    "\n",
    "Checking dataset for some key details like the presence of null values and data type which will need to be addressed further downstream "
   ]
  },
  {
   "cell_type": "code",
   "execution_count": 567,
   "metadata": {},
   "outputs": [
    {
     "name": "stdout",
     "output_type": "stream",
     "text": [
      "TITLE               0\n",
      "RESTAURANT_ID       0\n",
      "CUISINES            0\n",
      "TIME                0\n",
      "CITY              147\n",
      "LOCALITY          128\n",
      "RATING              4\n",
      "VOTES            1606\n",
      "COST             4231\n",
      "Identify            0\n",
      "dtype: int64\n",
      "XXXXXXXXXXXXXXXXXXXXXXXXXXXXXXXXXXXXXXXXXXXXXXXXXXXXXXXXXXXXXXXXXXXXXXXXXXXXXXXX\n",
      "<class 'pandas.core.frame.DataFrame'>\n",
      "RangeIndex: 16921 entries, 0 to 16920\n",
      "Data columns (total 10 columns):\n",
      " #   Column         Non-Null Count  Dtype  \n",
      "---  ------         --------------  -----  \n",
      " 0   TITLE          16921 non-null  object \n",
      " 1   RESTAURANT_ID  16921 non-null  int64  \n",
      " 2   CUISINES       16921 non-null  object \n",
      " 3   TIME           16921 non-null  object \n",
      " 4   CITY           16774 non-null  object \n",
      " 5   LOCALITY       16793 non-null  object \n",
      " 6   RATING         16917 non-null  object \n",
      " 7   VOTES          15315 non-null  object \n",
      " 8   COST           12690 non-null  float64\n",
      " 9   Identify       16921 non-null  object \n",
      "dtypes: float64(1), int64(1), object(8)\n",
      "memory usage: 1.3+ MB\n",
      "None\n",
      "XXXXXXXXXXXXXXXXXXXXXXXXXXXXXXXXXXXXXXXXXXXXXXXXXXXXXXXXXXXXXXXXXXXXXXXXXXXXXXXX\n"
     ]
    },
    {
     "data": {
      "application/javascript": [
       "\n",
       "        if (window._pyforest_update_imports_cell) { window._pyforest_update_imports_cell('import numpy as np\\nimport matplotlib.pyplot as plt\\nimport seaborn as sns\\nimport pandas as pd'); }\n",
       "    "
      ],
      "text/plain": [
       "<IPython.core.display.Javascript object>"
      ]
     },
     "metadata": {},
     "output_type": "display_data"
    },
    {
     "data": {
      "application/javascript": [
       "\n",
       "        if (window._pyforest_update_imports_cell) { window._pyforest_update_imports_cell('import numpy as np\\nimport matplotlib.pyplot as plt\\nimport seaborn as sns\\nimport pandas as pd'); }\n",
       "    "
      ],
      "text/plain": [
       "<IPython.core.display.Javascript object>"
      ]
     },
     "metadata": {},
     "output_type": "display_data"
    },
    {
     "data": {
      "application/javascript": [
       "\n",
       "        if (window._pyforest_update_imports_cell) { window._pyforest_update_imports_cell('import numpy as np\\nimport matplotlib.pyplot as plt\\nimport seaborn as sns\\nimport pandas as pd'); }\n",
       "    "
      ],
      "text/plain": [
       "<IPython.core.display.Javascript object>"
      ]
     },
     "metadata": {},
     "output_type": "display_data"
    },
    {
     "data": {
      "image/png": "[encoded data removed]",
      "text/plain": [
       "<Figure size 432x288 with 2 Axes>"
      ]
     },
     "metadata": {
      "needs_background": "light"
     },
     "output_type": "display_data"
    }
   ],
   "source": [
    "# Dataset info exraction\n",
    "print(res.isnull().sum())\n",
    "print('X'*80)\n",
    "print(res.info())\n",
    "print('X'*80)\n",
    "sns.heatmap(res.isnull())\n",
    "plt.title('Null Values')\n",
    "plt.show()"
   ]
  },
  {
   "cell_type": "markdown",
   "metadata": {},
   "source": [
    "We can see that \n",
    "\n",
    "- CITY, LOCALITY, RATING, VOTES, COST columns are with null values wherein COST null values are coming from concatenating test dataset(confirmed by heat map all null values are in the lower part).\n",
    "\n",
    "- Restaurant_ID is a unique value for each restaurant hence can be dropped.\n",
    "\n",
    "- RESTAURANT_ID has an int data type, COST has a float data type. Rests all features have an object data type."
   ]
  },
  {
   "cell_type": "markdown",
   "metadata": {},
   "source": [
    "Now we are gonna dissect the features in detail and check for possible information that can be extracted, \n",
    "\n",
    "Define a function & passing on all features by a loop will give us all necessary details"
   ]
  },
  {
   "cell_type": "code",
   "execution_count": 568,
   "metadata": {},
   "outputs": [],
   "source": [
    "# Function to analyse columns\n",
    "def cat_ana(df, x = None):\n",
    "    series = df[x]\n",
    "    print(f'Deatils of Feature {x} are: ')\n",
    "    print(f'Stats summary \\n{series.describe()}')\n",
    "    print('+' *80)\n",
    "    print(f'Null values \\n{series.isnull().sum()}')\n",
    "    print('+' *80)\n",
    "    print(f'Series value count is \\n{series.value_counts()}')\n",
    "    print('+' *80)\n",
    "    print(f'Unique values \\n{series.unique()}')\n",
    "    print('X' *80)"
   ]
  },
  {
   "cell_type": "code",
   "execution_count": 569,
   "metadata": {},
   "outputs": [
    {
     "name": "stdout",
     "output_type": "stream",
     "text": [
      "Deatils of Feature TITLE are: \n",
      "Stats summary \n",
      "count           16921\n",
      "unique            123\n",
      "top       QUICK BITES\n",
      "freq             5634\n",
      "Name: TITLE, dtype: object\n",
      "++++++++++++++++++++++++++++++++++++++++++++++++++++++++++++++++++++++++++++++++\n",
      "Null values \n",
      "0\n",
      "++++++++++++++++++++++++++++++++++++++++++++++++++++++++++++++++++++++++++++++++\n",
      "Series value count is \n",
      "QUICK BITES                     5634\n",
      "CASUAL DINING                   4910\n",
      "None                            1287\n",
      "CAFÉ                             830\n",
      "DESSERT PARLOR                   508\n",
      "                                ... \n",
      "CASUAL DINING,DESSERT PARLOR       1\n",
      "SWEET SHOP,CONFECTIONERY           1\n",
      "BAKERY,FOOD COURT                  1\n",
      "CAFÉ,FOOD COURT                    1\n",
      "BAR,MICROBREWERY                   1\n",
      "Name: TITLE, Length: 123, dtype: int64\n",
      "++++++++++++++++++++++++++++++++++++++++++++++++++++++++++++++++++++++++++++++++\n",
      "Unique values \n",
      "['CASUAL DINING' 'CASUAL DINING,BAR' 'QUICK BITES' 'DESSERT PARLOR' 'CAFÉ'\n",
      " 'MICROBREWERY' 'QUICK BITES,BEVERAGE SHOP' 'CASUAL DINING,IRANI CAFE'\n",
      " 'BAKERY,QUICK BITES' 'None' 'BAR,CASUAL DINING' 'BAR' 'PUB'\n",
      " 'BEVERAGE SHOP' 'FINE DINING' 'CAFÉ,QUICK BITES'\n",
      " 'BEVERAGE SHOP,DESSERT PARLOR' 'SWEET SHOP,QUICK BITES'\n",
      " 'DESSERT PARLOR,SWEET SHOP' 'BAKERY' 'BAKERY,DESSERT PARLOR' 'BAR,LOUNGE'\n",
      " 'FOOD COURT' 'LOUNGE' 'DESSERT PARLOR,BEVERAGE SHOP'\n",
      " 'LOUNGE,CASUAL DINING' 'FOOD TRUCK' 'QUICK BITES,FOOD COURT' 'SWEET SHOP'\n",
      " 'BEVERAGE SHOP,FOOD COURT' 'PUB,CASUAL DINING' 'MESS'\n",
      " 'MICROBREWERY,CASUAL DINING' 'CASUAL DINING,SWEET SHOP' 'KIOSK'\n",
      " 'QUICK BITES,KIOSK' 'CLUB' 'FINE DINING,BAR' 'DESSERT PARLOR,QUICK BITES'\n",
      " 'FOOD COURT,QUICK BITES' 'LOUNGE,CAFÉ' 'BAKERY,CONFECTIONERY'\n",
      " 'CASUAL DINING,CAFÉ' 'DHABA' 'CAFÉ,DESSERT PARLOR'\n",
      " 'QUICK BITES,DESSERT PARLOR' 'PUB,MICROBREWERY' 'LOUNGE,BAR'\n",
      " 'DESSERT PARLOR,CAFÉ' 'CAFÉ,BAR' 'SWEET SHOP,CONFECTIONERY'\n",
      " 'CASUAL DINING,PUB' 'MICROBREWERY,BAR' 'DESSERT PARLOR,BAKERY'\n",
      " 'QUICK BITES,SWEET SHOP' 'BEVERAGE SHOP,QUICK BITES'\n",
      " 'CASUAL DINING,LOUNGE' 'CASUAL DINING,CLUB' 'QUICK BITES,CAFÉ' 'BAR,CAFÉ'\n",
      " 'CAFÉ,CASUAL DINING' 'QUICK BITES,CASUAL DINING'\n",
      " 'CASUAL DINING,MICROBREWERY' 'CASUAL DINING,BAKERY' 'CAFÉ,BAKERY'\n",
      " 'MEAT SHOP' 'QUICK BITES,BAKERY' 'BAR,FINE DINING'\n",
      " 'SWEET SHOP,CASUAL DINING' 'MEAT SHOP,QUICK BITES' 'PUB,LOUNGE'\n",
      " 'BAKERY,CAFÉ' 'COCKTAIL BAR' 'FINE DINING,LOUNGE' 'CONFECTIONERY'\n",
      " 'QUICK BITES,BAR' 'BAKERY,FOOD COURT' 'PUB,BAR'\n",
      " 'DESSERT PARLOR,FOOD COURT' 'QUICK BITES,FOOD TRUCK'\n",
      " 'BAKERY,BEVERAGE SHOP' 'CLUB,BAR' 'BAKERY,SWEET SHOP' 'SWEET SHOP,BAKERY'\n",
      " 'CASUAL DINING,FOOD COURT' 'PAAN SHOP' 'BEVERAGE SHOP,CAFÉ'\n",
      " 'FOOD COURT,DESSERT PARLOR' 'CLUB,MICROBREWERY' 'CAFÉ,BEVERAGE SHOP'\n",
      " 'DESSERT PARLOR,PAAN SHOP' 'MICROBREWERY,LOUNGE' 'LOUNGE,CLUB'\n",
      " 'SWEET SHOP,DESSERT PARLOR' 'BAR,PUB' 'CONFECTIONERY,QUICK BITES'\n",
      " 'DESSERT PARLOR,KIOSK' 'LOUNGE,PUB' 'SWEET SHOP,BEVERAGE SHOP'\n",
      " 'FINE DINING,CAFÉ' 'BEVERAGE SHOP,CASUAL DINING' 'KIOSK,QUICK BITES'\n",
      " 'CASUAL DINING,DESSERT PARLOR' 'LOUNGE,FINE DINING' 'PUB,CAFÉ'\n",
      " 'CAFÉ,LOUNGE' 'BAR,CLUB' 'COCKTAIL BAR,CASUAL DINING' 'MICROBREWERY,PUB'\n",
      " 'CAFÉ,FINE DINING' 'KIOSK,FOOD COURT' 'LOUNGE,MICROBREWERY'\n",
      " 'BAR,MICROBREWERY' 'FOOD TRUCK,DESSERT PARLOR' 'IRANI CAFE,BAKERY'\n",
      " 'BAKERY,CASUAL DINING' 'PUB,FINE DINING' 'CAFÉ,FOOD COURT'\n",
      " 'FINE DINING,MICROBREWERY' 'CLUB,FINE DINING' 'QUICK BITES,MEAT SHOP'\n",
      " 'CLUB,CASUAL DINING' 'BHOJANALYA']\n",
      "XXXXXXXXXXXXXXXXXXXXXXXXXXXXXXXXXXXXXXXXXXXXXXXXXXXXXXXXXXXXXXXXXXXXXXXXXXXXXXXX\n",
      "Deatils of Feature RESTAURANT_ID are: \n",
      "Stats summary \n",
      "count    16921.000000\n",
      "mean      7767.211631\n",
      "std       4493.287626\n",
      "min          0.000000\n",
      "25%       3873.000000\n",
      "50%       7751.000000\n",
      "75%      11672.000000\n",
      "max      15573.000000\n",
      "Name: RESTAURANT_ID, dtype: float64\n",
      "++++++++++++++++++++++++++++++++++++++++++++++++++++++++++++++++++++++++++++++++\n",
      "Null values \n",
      "0\n",
      "++++++++++++++++++++++++++++++++++++++++++++++++++++++++++++++++++++++++++++++++\n",
      "Series value count is \n",
      "4634     8\n",
      "7264     8\n",
      "7745     7\n",
      "4058     7\n",
      "12747    7\n",
      "        ..\n",
      "15309    1\n",
      "13260    1\n",
      "3019     1\n",
      "970      1\n",
      "0        1\n",
      "Name: RESTAURANT_ID, Length: 15574, dtype: int64\n",
      "++++++++++++++++++++++++++++++++++++++++++++++++++++++++++++++++++++++++++++++++\n",
      "Unique values \n",
      "[ 9438 13198 10915 ...  8617  6485  2421]\n",
      "XXXXXXXXXXXXXXXXXXXXXXXXXXXXXXXXXXXXXXXXXXXXXXXXXXXXXXXXXXXXXXXXXXXXXXXXXXXXXXXX\n",
      "Deatils of Feature CUISINES are: \n",
      "Stats summary \n",
      "count            16921\n",
      "unique            5183\n",
      "top       North Indian\n",
      "freq               716\n",
      "Name: CUISINES, dtype: object\n",
      "++++++++++++++++++++++++++++++++++++++++++++++++++++++++++++++++++++++++++++++++\n",
      "Null values \n",
      "0\n",
      "++++++++++++++++++++++++++++++++++++++++++++++++++++++++++++++++++++++++++++++++\n",
      "Series value count is \n",
      "North Indian                                        716\n",
      "North Indian, Chinese                               714\n",
      "South Indian                                        706\n",
      "Fast Food                                           364\n",
      "Chinese                                             226\n",
      "                                                   ... \n",
      "Healthy Food, South Indian, Fast Food, Chettinad      1\n",
      "North Indian, Italian, Parsi, European                1\n",
      "Fast Food, Biryani, Continental, Chinese              1\n",
      "Maharashtrian, Konkan, Seafood                        1\n",
      "North Indian, Chinese, Thai, Greek, Italian           1\n",
      "Name: CUISINES, Length: 5183, dtype: int64\n",
      "++++++++++++++++++++++++++++++++++++++++++++++++++++++++++++++++++++++++++++++++\n",
      "Unique values \n",
      "['Malwani, Goan, North Indian' 'Asian, Modern Indian, Japanese'\n",
      " 'North Indian, Chinese, Biryani, Hyderabadi' ...\n",
      " 'European, Mediterranean, Italian, Sushi'\n",
      " 'North Indian, Chinese, Kebab, Juices' 'Sindhi, Street Food']\n",
      "XXXXXXXXXXXXXXXXXXXXXXXXXXXXXXXXXXXXXXXXXXXXXXXXXXXXXXXXXXXXXXXXXXXXXXXXXXXXXXXX\n",
      "Deatils of Feature TIME are: \n",
      "Stats summary \n",
      "count                     16921\n",
      "unique                     3295\n",
      "top       11am – 11pm (Mon-Sun)\n",
      "freq                       1862\n",
      "Name: TIME, dtype: object\n",
      "++++++++++++++++++++++++++++++++++++++++++++++++++++++++++++++++++++++++++++++++\n",
      "Null values \n",
      "0\n",
      "++++++++++++++++++++++++++++++++++++++++++++++++++++++++++++++++++++++++++++++++\n",
      "Series value count is \n",
      "11am – 11pm (Mon-Sun)                                 1862\n",
      "12noon – 12midnight (Mon-Sun)                          615\n",
      "12noon – 11pm (Mon-Sun)                                541\n",
      "11am – 12midnight (Mon-Sun)                            419\n",
      "10am – 10pm (Mon-Sun)                                  288\n",
      "                                                      ... \n",
      "11am – 4pm, 6pm – 11pm (Mon, Wed, Thu, Fri, Sat...       1\n",
      "Closed (Mon, Tue, Wed, Thu, Sun), 10:30pm – 5am...       1\n",
      "6:30pm – 10:30pm (Mon, Wed, Thu, Fri, Sat, Sun)...       1\n",
      "12noon – 1:30am (Mon, Tue, Wed, Fri, Sat, Sun)...        1\n",
      "12noon – 4am (Mon),11am – 4am (Tue-Sun)                  1\n",
      "Name: TIME, Length: 3295, dtype: int64\n",
      "++++++++++++++++++++++++++++++++++++++++++++++++++++++++++++++++++++++++++++++++\n",
      "Unique values \n",
      "['11am – 4pm, 7:30pm – 11:30pm (Mon-Sun)' '6pm – 11pm (Mon-Sun)'\n",
      " '11am – 3:30pm, 7pm – 11pm (Mon-Sun)' ...\n",
      " '12noon – 4pm, 7pm – 10:30pm (Mon-Sat),12noon –...'\n",
      " '6am – 12:30AM (Mon, Tue, Wed, Thu, Sat, Sun), 6am...'\n",
      " '11am – 11:30pm (Mon, Tue, Wed, Thu, Sat, Sun), 3pm...']\n",
      "XXXXXXXXXXXXXXXXXXXXXXXXXXXXXXXXXXXXXXXXXXXXXXXXXXXXXXXXXXXXXXXXXXXXXXXXXXXXXXXX\n",
      "Deatils of Feature CITY are: \n",
      "Stats summary \n",
      "count       16774\n",
      "unique        450\n",
      "top       Chennai\n",
      "freq         2855\n",
      "Name: CITY, dtype: object\n",
      "++++++++++++++++++++++++++++++++++++++++++++++++++++++++++++++++++++++++++++++++\n",
      "Null values \n",
      "147\n",
      "++++++++++++++++++++++++++++++++++++++++++++++++++++++++++++++++++++++++++++++++\n",
      "Series value count is \n",
      "Chennai                              2855\n",
      "Bangalore                            2835\n",
      "Hyderabad                            2458\n",
      "Mumbai                               2311\n",
      "New Delhi                            1754\n",
      "                                     ... \n",
      "Sector 51 Noida                         1\n",
      "Near Sector 110 Noida                   1\n",
      "B.B.M.P East (Karnataka) - 560049       1\n",
      "Dombivli                                1\n",
      "Andheri Lokhandwala                     1\n",
      "Name: CITY, Length: 450, dtype: int64\n",
      "++++++++++++++++++++++++++++++++++++++++++++++++++++++++++++++++++++++++++++++++\n",
      "Unique values \n",
      "['Thane' 'Chennai' 'Mumbai' 'Bangalore' 'Gurgaon' 'Hyderabad' 'Kochi'\n",
      " 'Thane West' 'Andheri Lokhandwala' 'New Delhi' 'Andheri West'\n",
      " 'Malad East' '682036' 'Bangalor' 'Navi Mumbai' 'Bandra West' 'Delhi'\n",
      " 'Noida' 'Bangalore-560066' 'Secunderabad' nan 'India' 'Madhuranagar'\n",
      " 'Chennai Teynampet' 'Faridabad' 'Chembur.' 'Maharashtra'\n",
      " 'opp gurudwara Shakurpur' 'Telagana Land Line:040-48507016' 'Ghaziabad'\n",
      " 'Karnataka' 'Kerala' 'Edappally' 'Kadavanthra' 'Ernakulam Circle kochi'\n",
      " 'Bengalore' 'Near Reliance Fresh' 'Kilpauk' 'Bengaluru' 'Kothaguda'\n",
      " 'Goregaon West' 'Banglore' 'Tamil Nadu' 'Kakkanad' 'Kochi Elamkulam'\n",
      " 'Outer Ring Road' 'Mulund East'\n",
      " 'Secunderabad main road near signal NMREC COLLEGE' 'Telangana'\n",
      " 'Ponnuruni Kochi' 'Gachibowli' 'Semmancheri'\n",
      " '5th Main Teachers Colony Koramangala Block 1 Bangalore 560034'\n",
      " 'Mumbai Mahim' 'Powai (Next to Powai Plaza)' 'Dombivali East'\n",
      " 'Kochi Vyttila' 'Kandivali' 'Kochi Palarivattom' 'Dewan Rama Road'\n",
      " 'Gurugram' 'Sector 51 Noida' 'Kaloor' 'Besant Nagar'\n",
      " 'Arumbakkam chennai-600106.' 'Adjacent To Commercial Street' 'Delhi NCR'\n",
      " 'Dwarka' '682035.' 'Kalyan West' 'Avadi' 'Kondapur' 'Mehdipatnam'\n",
      " 'Gandipet' 'Velachery' 'Pallavaram' 'Vijaya Nagar' 'BTM Layout'\n",
      " 'Chennai 600034.'\n",
      " 'Metro Pillar No 21. Mettuguda main road near railway degree college.'\n",
      " 'Chennai - 600040' 'JP Nagar Bangalore' 'Madhapur' 'Ernakulam' 'Sarjapur'\n",
      " 'Whitefield Bangalore' 'Kochi Chullickal' 'Kochi-683101'\n",
      " 'Bangalore - 560076' 'Rohini' 'Hyderabad Behind Vacs Pastries'\n",
      " 'Hyderabad neerus emporium.' 'Navi Mumbai.' 'Karol Bagh' 'Perungudi'\n",
      " 'Thykoodam' 'Greater Noida' 'Bangalore.' 'Khairatabad' 'chullickal'\n",
      " 'Grant Road West' 'Hitech City' 'West Maredpally' 'Mumbai - 400007'\n",
      " 'Chennai Padur' 'Chander Nagar New Delhi' 'Nedumbassery' 'MG Road'\n",
      " 'Naya Nagar Mira Road' 'Pitampura' 'Lower Parel' 'HBR Layout'\n",
      " 'Telangana 500003' 'Rajiv gandhi Nagar' 'New Delhi.' 'Medavakkam'\n",
      " 'Sathya Nagar' 'p.o Kochi' 'Behind Ramalayam Temple' 'Palarivattom'\n",
      " 'Brigade Road' 'Mumbai.' 'Mumbai Andheri East' 'Virar West' 'B-1 Stage'\n",
      " 'Chennai Kovalam' 'Hyderabad.' 'Aluva' 'Telangana 500034'\n",
      " 'IOB Bank Kamala Nagar' 'HSR Layout' 'Marine Drive' 'DLF Galleria'\n",
      " 'Nallathambi Main Road' 'Chennai opp: Vasanth & co' 'Citypark'\n",
      " 'Karnataka 560103' 'Bhayandar' 'Aluva Circle' 'Thammenahalli Village'\n",
      " 'SG Palya' 'Attapur.' 'Near Shangrilla Bus Stop' 'Khar (west)' 'Road 3'\n",
      " 'Kukatpally' 'Faridabd' 'Telangana 500032' 'Dilsukhnagar'\n",
      " 'Mogappair. Chennai' 'Near Munrshwara Temple' 'Off Brigade Road'\n",
      " 'khar west' 'Potheri' 'Chennai Perungudi' 'Chennai Thuraipakkam'\n",
      " 'OMR Karapakkam' 'Hyderabad-500032' 'Mumbai Dombivali East'\n",
      " 'Chennai Thousand Lights' 'Mahim' 'Lingampally' 'Powai'\n",
      " 'New Delhi-110024' 'Chennai- 600107' 'Kerala 683104' 'Vasai West.'\n",
      " 'Thane (W)' 'Near Santosh Banjara Hyderabad'\n",
      " 'Banaswadi (Next to Indian Bank) Bangalore' 'BTM Bangalore'\n",
      " 'Greater Kailash 2 New Delhi' 'Secunderabad ECIL'\n",
      " 'Bangalore Koramangala 7th Block' 'bangalore : 560085' 'navi mumbai'\n",
      " 'Gachibowli Hyderabad'\n",
      " 'CPR layout harlur main road opposite to ozone ever green apartment Bangalore -'\n",
      " 'ECR NEELANKARAI Chennai 600115' 'ward X11' 'kochi' 'Perumbavoor'\n",
      " 'Mira raod east' 'Kerala 682013' 'Chennai.' 'Pokhran Road 2'\n",
      " 'Uttar Pradesh' 'Karnataka 560102' 'Mumbai - 400013' 'Naharpar'\n",
      " 'Hosur Road' 'Near Bharat Petroleum.'\n",
      " 'Chennai (Bang Opposite Indian Bank)' 'Sriram nagar' 'West Mumbai'\n",
      " 'Vyttila' 'Banjara Hills' 'MALAPALLIPURAM P .O THRISSUR'\n",
      " 'Andheri west Mumbai' 'Karnataka 560043' 'Panampilly Nagar' 'hyderabad'\n",
      " 'Borivali East.' 'ECIL' 'Jubilee Hills'\n",
      " 'Amrit kaur market opposite new delhi railway station paharganj'\n",
      " 'Chennai Opposite 5C Bus stand' 'Telengana' 'Kochi Ravipuram' 'Rajanpada'\n",
      " 'Mahabalipuram' 'Secunderabad. WE HAVE NO BRANCHES.' 'Telangana 500081'\n",
      " 'Gurgoan' 'Elamakkara' 'Sector 1' 'Bandra W' 'Kolathur'\n",
      " 'Chennai Mahabalipuram' '3rd Street' 'Mumbai Chakala' 'Borivali West'\n",
      " 'Rodeo Drive Sector 49' 'Pallimukku' 'Delhi 110085' 'Sector 51'\n",
      " 'Champapet' 'Andavar Nagar' 'Bangalore - 560103' 'Kerala 690525'\n",
      " 'opp mukteshwar ashram powai' 'Nungambakkam' 'BK Guda'\n",
      " 'Jogeshwari (w) Mumbai' 'Kukatapally' 'Near Sector 110 Noida' 'Navallur'\n",
      " 'Beside Excellency Gardens' 'Mumbai - 80' 'Begumpet'\n",
      " 'Maharaja Hotel Beside Gardania Bar' 'Ashok Vihar Phase 1' 'Trivandrum'\n",
      " 'Kochi-18' 'Narayanguda' 'Thevera' 'Chennai-40' 'Palm Beach Road'\n",
      " 'East Coast Road (ECR)' 'Ramapuram' 'Chennai Chrompet' 'Nandanam' 'Saket'\n",
      " 'MG Road Ernakulam' 'Andheri Lokhandwala.' 'Indiranagar' 'Thiruvanmiyur'\n",
      " 'Ambattur' 'Banglaore' 'Chennai - 34 Landmark - Near Loyola College'\n",
      " 'Anna Nagar West' 'Old Railway Road' 'East Mumbai'\n",
      " 'Kanakapura Road Banglore' 'Kochi Kakkanad' 'Kalyan'\n",
      " 'Near Ramlila Ground' 'Serilingampally' 'Himayath Nagar' 'Nallala Street'\n",
      " 'Anna Salai' 'Old Delhi' 'Wagle Estate' '1st Stage' 'Kochi-16'\n",
      " 'Kochi International Airport VIP Road' 'First Street' 'Chenn ai'\n",
      " '6 & 7 - 4/64 Subhash Nagar' '1st Tavarekere' 'Perambur'\n",
      " 'Vaishali Ghaziabad' 'Thanisandra' 'Block F' 'Sector 7 Dwarka'\n",
      " 'Opposite Barathi Gas Company' 'Vadapalani' 'Kondapur.' 'Badlapur West.'\n",
      " 'Kalamassery' 'Palavakkam' 'TCS Synergy park' 'BTM 1st Stage'\n",
      " 'Mahadevpura' 'NEW BEL ROAD 560054'\n",
      " 'Veliaveetil house Vivekananda Nagar Elamakkara' 'Sholinganallur'\n",
      " 'Maharashtra 400102' 'Lower Parel West' 'Tripunithura' 'Mogappair'\n",
      " 'Telangana 500070' 'JP Nagar' 'Navi-Mumbai' 'Ashok Nagar' 'Marathahalli'\n",
      " 'Haridwar Apartments' 'Kerala 682001 India' 'Karnataka 560037'\n",
      " 'Kerala 683585' 'Chennai. (Near Hotel Matshya)' 'Indirapuram'\n",
      " 'Begumpet Hyderabad' 'Manikonda'\n",
      " 'Bangalore land mark above mahaveer hard ware' 'Kerala 682304'\n",
      " 'Rajarajeshwari Nagar bangalore' 'GST Road' 'Fort Kochi'\n",
      " 'Lahari Apartments' 'Ramanthapur' 'Mulund west' 'Gurgaon Haryana India'\n",
      " 'New Delhi..Near by SBI bank' 'Kochi Aluva 102' 'Phase 1 Bangalore'\n",
      " 'Hyderabad Manikonda'\n",
      " 'Mumbai This is a Delivery & Take-away Restaurant only.' '10th avenue'\n",
      " 'Uppal' 'New Delhi 110075' 'Nizampet' 'Ulsoo' 'Bangalore 560076'\n",
      " 'PVR plaza cinema building Connaught Place' 'Gurgaon Haryana' 'Chromepet'\n",
      " 'Kerala 682024' 'Janakpuri' 'Secunderabad.' 'chennai'\n",
      " 'B.B.M.P East (Karnataka) - 560049' 'Tambaram' 'Malleshwaram Bangalore'\n",
      " 'Vadapalani.' 'Dist. Center New Delhi' 'Bangalore Road' 'aluva circle'\n",
      " 'Kochi.' 'Thane Mumbai' 'Kadubesanahalli Bangalore' 'Vasai west'\n",
      " 'Mig Housing Society' 'Haryana' 'Borivali West.' 'Golf Course Road'\n",
      " 'Khar Mumbai' 'Near Jyothinivas College' 'Anna Nagar East' 'Masab Tank'\n",
      " 'Vasai Mumbai' 'Panathur Main Road' 'Near Andheri West Station'\n",
      " 'opposite to western side of ITPL Service gate' 'Kalkaji' 'APR Chambers'\n",
      " 'Tamil Nadu 600102' 'Maharashtra.' 'Gandhinagar Rd'\n",
      " 'Near Andheri East Station' 'Whitefield' 'Kerala 682036'\n",
      " 'Mira Road Thane Mumbai' 'India Gate New Delhi' 'Bangalore - 560095'\n",
      " 'Sholinganallur. Chennai' 'Chennai (Above Bombay Brasserie)' 'Chennai 37'\n",
      " '682024' 'Girgaum' 'Greater Kailash 1 (GK 1) New Delhi' 'Kurla (W)'\n",
      " 'Mumbai 400015' 'Thane West Thane West' 'Kochi Panampilly Nagar' 'Marad'\n",
      " 'Maharashtra 400092' 'Near Sector 34' 'Mehdipatnam Hyderabad'\n",
      " 'Nallagandla' 'Vandalur' 'Mulund West' 'Chennai 40' 'Secunderbad'\n",
      " 'MM Nagar' 'Mumbai 400070' 'Chittethukkara' 'BTM' 'Dombivli'\n",
      " 'Sahakara Nagar' 'Mohammad Ali Road Mumbai' 'Chennai 600040'\n",
      " 'Tavarekere Main Road' 'Community Centre' 'Kerala 682022' 'Delh.'\n",
      " 'Sector-6 Noida 201301' 'Kaaraikudi Complex'\n",
      " 'Thiruvanmiyur (Opp Eurokids LB Road)' 'Virar Mumbai' 'Tolichowki'\n",
      " 'Hyderaba' 'Kerala 682305' 'Alwarpet' 'Kerala 682015'\n",
      " 'Mumbai Veera Desai Area' 'Kerala 682018' 'Kerala 682028' 'Suraram'\n",
      " 'Chennai Velachery' 'Forum Sujana Mall Opposite to Malaysian township'\n",
      " 'Old Hafeezpet' 'Yousufguda' 'Chennai-600008' 'Mumbai Ulhasnagar'\n",
      " 'Jogeshwari West Mumbai' 'Chepauk' 'Chowpatty' 'Church Street'\n",
      " 'Balavinayagar Nagar Chennai' 'T-Nagar Chennai' 'RA Puram'\n",
      " 'Hyderabad.Star hypermarket opposite side Service road'\n",
      " 'Chennai Injambakkam' 'Mumbai Mumbra' 'Habsiguda' 'Kurla Mumbai'\n",
      " 'Telangana 500027' 'Chenna' 'Kerala 682021' 'Kandivali West'\n",
      " 'chennai-119' 'Noida Extention' 'Shihab Thangal Road' 'New Delhi 110011'\n",
      " 'Miumbai' 'Borivali (W) Mumbai: 400 092.' 'Vanasthalipuram' 'KK Road'\n",
      " 'Chennai - 600018' 'Opposite Ellora Building']\n",
      "XXXXXXXXXXXXXXXXXXXXXXXXXXXXXXXXXXXXXXXXXXXXXXXXXXXXXXXXXXXXXXXXXXXXXXXXXXXXXXXX\n",
      "Deatils of Feature LOCALITY are: \n",
      "Stats summary \n",
      "count          16793\n",
      "unique          1636\n",
      "top       Gachibowli\n",
      "freq             216\n",
      "Name: LOCALITY, dtype: object\n",
      "++++++++++++++++++++++++++++++++++++++++++++++++++++++++++++++++++++++++++++++++\n",
      "Null values \n",
      "128\n",
      "++++++++++++++++++++++++++++++++++++++++++++++++++++++++++++++++++++++++++++++++\n",
      "Series value count is \n",
      "Gachibowli                    216\n",
      "Indiranagar                   187\n",
      "Kakkanad                      175\n",
      "Kukatpally                    171\n",
      "Madhapur                      169\n",
      "                             ... \n",
      "Dr A.S Rao Nagar Main Road      1\n",
      "1-7-172/1 Ecil Opposite         1\n",
      "J N Road                        1\n",
      "Beside Apollo Pharmacy          1\n",
      "Nehru Nagar                     1\n",
      "Name: LOCALITY, Length: 1636, dtype: int64\n",
      "++++++++++++++++++++++++++++++++++++++++++++++++++++++++++++++++++++++++++++++++\n",
      "Unique values \n",
      "['Dombivali East' 'Ramapuram' 'Saligramam' ... 'Off Carter Road'\n",
      " 'SRM Back Gate' 'Perry Cross Road']\n",
      "XXXXXXXXXXXXXXXXXXXXXXXXXXXXXXXXXXXXXXXXXXXXXXXXXXXXXXXXXXXXXXXXXXXXXXXXXXXXXXXX\n",
      "Deatils of Feature RATING are: \n",
      "Stats summary \n",
      "count     16917\n",
      "unique       32\n",
      "top         3.9\n",
      "freq       1643\n",
      "Name: RATING, dtype: object\n",
      "++++++++++++++++++++++++++++++++++++++++++++++++++++++++++++++++++++++++++++++++\n",
      "Null values \n",
      "4\n",
      "++++++++++++++++++++++++++++++++++++++++++++++++++++++++++++++++++++++++++++++++\n",
      "Series value count is \n",
      "3.9    1643\n",
      "3.8    1604\n",
      "4.0    1498\n",
      "3.7    1437\n",
      "3.6    1261\n",
      "4.1    1217\n",
      "3.5     988\n",
      "4.2     968\n",
      "NEW     930\n",
      "3.4     777\n",
      "4.3     740\n",
      "-       672\n",
      "3.3     485\n",
      "4.4     484\n",
      "3.2     349\n",
      "4.5     274\n",
      "3.1     263\n",
      "2.9     242\n",
      "3.0     229\n",
      "2.8     191\n",
      "4.6     184\n",
      "2.7     129\n",
      "4.7      90\n",
      "2.6      85\n",
      "2.5      51\n",
      "4.8      49\n",
      "4.9      28\n",
      "2.4      24\n",
      "2.3      15\n",
      "2.1       4\n",
      "2.2       4\n",
      "2.0       2\n",
      "Name: RATING, dtype: int64\n",
      "++++++++++++++++++++++++++++++++++++++++++++++++++++++++++++++++++++++++++++++++\n",
      "Unique values \n",
      "['3.6' '4.2' '3.8' '4.1' '4.0' '4.3' '3.9' '3.3' '3.4' '-' '4.5' '3.5'\n",
      " '4.4' '2.7' '3.7' '4.7' 'NEW' '3.1' '2.5' '4.6' '2.8' nan '3.0' '3.2'\n",
      " '2.6' '2.9' '4.9' '4.8' '2.4' '2.3' '2.0' '2.1' '2.2']\n",
      "XXXXXXXXXXXXXXXXXXXXXXXXXXXXXXXXXXXXXXXXXXXXXXXXXXXXXXXXXXXXXXXXXXXXXXXXXXXXXXXX\n",
      "Deatils of Feature VOTES are: \n",
      "Stats summary \n",
      "count        15315\n",
      "unique        2075\n",
      "top       44 votes\n",
      "freq            92\n",
      "Name: VOTES, dtype: object\n",
      "++++++++++++++++++++++++++++++++++++++++++++++++++++++++++++++++++++++++++++++++\n",
      "Null values \n",
      "1606\n",
      "++++++++++++++++++++++++++++++++++++++++++++++++++++++++++++++++++++++++++++++++\n",
      "Series value count is \n",
      "44 votes      92\n",
      "22 votes      88\n",
      "6 votes       87\n",
      "29 votes      83\n",
      "24 votes      81\n",
      "              ..\n",
      "3791 votes     1\n",
      "2207 votes     1\n",
      "6464 votes     1\n",
      "2049 votes     1\n",
      "4755 votes     1\n",
      "Name: VOTES, Length: 2075, dtype: int64\n",
      "++++++++++++++++++++++++++++++++++++++++++++++++++++++++++++++++++++++++++++++++\n",
      "Unique values \n",
      "['49 votes' '30 votes' '221 votes' ... '2159 votes' '3807 votes'\n",
      " '1913 votes']\n",
      "XXXXXXXXXXXXXXXXXXXXXXXXXXXXXXXXXXXXXXXXXXXXXXXXXXXXXXXXXXXXXXXXXXXXXXXXXXXXXXXX\n",
      "Deatils of Feature COST are: \n",
      "Stats summary \n",
      "count    12690.000000\n",
      "mean       655.252246\n",
      "std        627.003540\n",
      "min         20.000000\n",
      "25%        300.000000\n",
      "50%        500.000000\n",
      "75%        800.000000\n",
      "max      14000.000000\n",
      "Name: COST, dtype: float64\n",
      "++++++++++++++++++++++++++++++++++++++++++++++++++++++++++++++++++++++++++++++++\n",
      "Null values \n",
      "4231\n",
      "++++++++++++++++++++++++++++++++++++++++++++++++++++++++++++++++++++++++++++++++\n",
      "Series value count is \n",
      "300.0     1595\n",
      "400.0     1357\n",
      "500.0     1300\n",
      "200.0     1031\n",
      "600.0      806\n",
      "          ... \n",
      "70.0         1\n",
      "599.0        1\n",
      "2900.0       1\n",
      "8000.0       1\n",
      "4050.0       1\n",
      "Name: COST, Length: 86, dtype: int64\n",
      "++++++++++++++++++++++++++++++++++++++++++++++++++++++++++++++++++++++++++++++++\n",
      "Unique values \n",
      "[ 1200.  1500.   800.   300.   600.  1600.   200.   900.   400.  1400.\n",
      "   350.   500.   450.   700.  1000.   250.  2000.  1100.   100.   850.\n",
      "  2500.  1800.   150.   650.  3500.   750.   950.  1300.   180.  2100.\n",
      "   550.    50.  1900.  1750.  1350.    60.  2200.  5000.    80.  3300.\n",
      "  3800.  1450.  4000.  2800.   120.  4500.  2400.  1700.  3000.  2600.\n",
      "  5200. 14000.  1550.  4200.  3700.  1150.  2700.   130.  8000.  3200.\n",
      "  5500.  6500.  1050. 10000.  3600.   313.  3400.  2300.  3100.  1250.\n",
      "    20.  1650.  1850.  6000.   140.  4100.  4050.  2900.   599.  7000.\n",
      "   299.   370.  1950.   320.  1260.    70.    nan]\n",
      "XXXXXXXXXXXXXXXXXXXXXXXXXXXXXXXXXXXXXXXXXXXXXXXXXXXXXXXXXXXXXXXXXXXXXXXXXXXXXXXX\n"
     ]
    }
   ],
   "source": [
    "list = ['TITLE', 'RESTAURANT_ID', 'CUISINES', 'TIME', 'CITY', 'LOCALITY','RATING', 'VOTES', 'COST']\n",
    "for i in list:\n",
    "    cat_ana(res, x = i)"
   ]
  },
  {
   "cell_type": "markdown",
   "metadata": {},
   "source": [
    "## 3. EDA Concluding Remark.\n",
    "\n",
    "\n",
    "#### We can sum up that:\n",
    "- Our training dataset has -12690 rows, 9 columns and the test dataset has 4231 rows, 8 columns.\n",
    "\n",
    "- CITY, LOCALITY, RATING, VOTES, COST columns are with null values wherein cost null values are coming from the test dataset.\n",
    "\n",
    "- RESTAURANT_ID has an int data type, COST has a float data type. Rest All features have the object data type\n",
    "\n",
    "- TITLE, CUISINES, CITY, RATING, VOTES, and LOCALITY has significant data with delimiters which shall be filtered out.\n",
    "\n",
    "- **TITLE** : We can observe that the feature provide information regarding the types of cuisines like, Quick bites, Casual Dining, and cafe, etc, Though there are no null values, 1287 entries are None, 123 unique values are present, and has several entries that separated by \"commas \" indicating several restaurants serve multiple types of cuisines.\n",
    "\n",
    "- **CUISINES** : We can observe that the feature provides information regarding the variety of cuisines served by them like, North Indian, Malwani, Seafood, Maharashtra, etc. The feature has no null values but 5183 unique entries, and like 'TITLE' it has several entries that are separated by \"commas\" indicating some restaurants serve significant varieties and some not so much.\n",
    "\n",
    "- **VOTES** : As the name indicating the feature refer to the votes received by respective restaurants and as we know no. of votes is an indicative measure of restaurants' popularity. Has 1606 null values, 2076 unique values and a string 'votes' with a digit which shall be separated and data shall be retained only in numeric format int type.\n",
    "\n",
    "- **TIME** : The data gives information on restaurant working time, 3295 unique entries, has several delimiters. Though working time may play a role in deciding the cost of meals but would be negligible compared to computational effort hence feature can be dropped.\n",
    "\n",
    "- **RATING** : This column provides information about the restaurant rating, has no null values, 33 unique values some of which are strings like:\n",
    "    A. 'NEW'(Maybe referring to New restaurants),\n",
    "    B. '-' & 'nan' (Not available values),\n",
    "    C. Like votes rating also play a considerable role in cost factoring for any restaurant.\n",
    "\n",
    "- **CITY** : Indicates the city where restaurants are located, has 144 null values, 449 unique entries, and the most entries are miss-spelled, has localities included and highly mixed up data.\n",
    "\n",
    "- **LOCALITY** : Locality where the restaurant is located and we can see that the no. of unique entries is very high."
   ]
  },
  {
   "cell_type": "markdown",
   "metadata": {},
   "source": [
    "## 4. Pre-Processing Pipeline\n",
    "\n",
    "We are going to bellow mentioned methodology for addressing all the abnormalities we have detected in the EDA process:\n",
    "- Restaurant_ID is a unique value for each restaurant hence can be dropped it reduces the randomness of the dataset.\n",
    "- Time does not play much of a role in determining cost hence can be dropped.\n",
    "- Splitting dataset features with the delimiters\n",
    "- Replacing the whitespaces, string, special characters with a string obj 'MISSING'\n",
    "- Replacing null values in rating with title wide(group by title) mean ratings assuming new restaurants would try to compete with restaurants offering similar types of cuisines.\n",
    "- Regrouping all the city based on correct locality, spelling, and address"
   ]
  },
  {
   "cell_type": "code",
   "execution_count": 570,
   "metadata": {},
   "outputs": [
    {
     "data": {
      "application/javascript": [
       "\n",
       "        if (window._pyforest_update_imports_cell) { window._pyforest_update_imports_cell('import numpy as np\\nimport matplotlib.pyplot as plt\\nimport seaborn as sns\\nimport pandas as pd'); }\n",
       "    "
      ],
      "text/plain": [
       "<IPython.core.display.Javascript object>"
      ]
     },
     "metadata": {},
     "output_type": "display_data"
    },
    {
     "data": {
      "application/javascript": [
       "\n",
       "        if (window._pyforest_update_imports_cell) { window._pyforest_update_imports_cell('import numpy as np\\nimport matplotlib.pyplot as plt\\nimport seaborn as sns\\nimport pandas as pd'); }\n",
       "    "
      ],
      "text/plain": [
       "<IPython.core.display.Javascript object>"
      ]
     },
     "metadata": {},
     "output_type": "display_data"
    },
    {
     "data": {
      "application/javascript": [
       "\n",
       "        if (window._pyforest_update_imports_cell) { window._pyforest_update_imports_cell('import numpy as np\\nimport matplotlib.pyplot as plt\\nimport seaborn as sns\\nimport pandas as pd'); }\n",
       "    "
      ],
      "text/plain": [
       "<IPython.core.display.Javascript object>"
      ]
     },
     "metadata": {},
     "output_type": "display_data"
    },
    {
     "data": {
      "application/javascript": [
       "\n",
       "        if (window._pyforest_update_imports_cell) { window._pyforest_update_imports_cell('import numpy as np\\nimport matplotlib.pyplot as plt\\nimport seaborn as sns\\nimport pandas as pd'); }\n",
       "    "
      ],
      "text/plain": [
       "<IPython.core.display.Javascript object>"
      ]
     },
     "metadata": {},
     "output_type": "display_data"
    },
    {
     "data": {
      "application/javascript": [
       "\n",
       "        if (window._pyforest_update_imports_cell) { window._pyforest_update_imports_cell('import numpy as np\\nimport matplotlib.pyplot as plt\\nimport seaborn as sns\\nimport pandas as pd'); }\n",
       "    "
      ],
      "text/plain": [
       "<IPython.core.display.Javascript object>"
      ]
     },
     "metadata": {},
     "output_type": "display_data"
    },
    {
     "data": {
      "application/javascript": [
       "\n",
       "        if (window._pyforest_update_imports_cell) { window._pyforest_update_imports_cell('import numpy as np\\nimport matplotlib.pyplot as plt\\nimport seaborn as sns\\nimport pandas as pd'); }\n",
       "    "
      ],
      "text/plain": [
       "<IPython.core.display.Javascript object>"
      ]
     },
     "metadata": {},
     "output_type": "display_data"
    },
    {
     "data": {
      "application/javascript": [
       "\n",
       "        if (window._pyforest_update_imports_cell) { window._pyforest_update_imports_cell('import numpy as np\\nimport matplotlib.pyplot as plt\\nimport seaborn as sns\\nimport pandas as pd'); }\n",
       "    "
      ],
      "text/plain": [
       "<IPython.core.display.Javascript object>"
      ]
     },
     "metadata": {},
     "output_type": "display_data"
    },
    {
     "data": {
      "application/javascript": [
       "\n",
       "        if (window._pyforest_update_imports_cell) { window._pyforest_update_imports_cell('import numpy as np\\nimport matplotlib.pyplot as plt\\nimport seaborn as sns\\nimport pandas as pd'); }\n",
       "    "
      ],
      "text/plain": [
       "<IPython.core.display.Javascript object>"
      ]
     },
     "metadata": {},
     "output_type": "display_data"
    },
    {
     "data": {
      "application/javascript": [
       "\n",
       "        if (window._pyforest_update_imports_cell) { window._pyforest_update_imports_cell('import numpy as np\\nimport matplotlib.pyplot as plt\\nimport seaborn as sns\\nimport pandas as pd'); }\n",
       "    "
      ],
      "text/plain": [
       "<IPython.core.display.Javascript object>"
      ]
     },
     "metadata": {},
     "output_type": "display_data"
    }
   ],
   "source": [
    "# Lets eliminate white spaces for the ease of processing data\n",
    "list = ['TITLE','CUISINES','TIME','RATING','Identify', 'CITY','LOCALITY']\n",
    "for i in list:\n",
    "    res[i] = res[i].str.replace(' ', '')\n",
    "    \n",
    "\n",
    "# Preparing TITLE column\n",
    "res_title = pd.DataFrame(res['TITLE'].str.split(',').tolist())\n",
    "res_title.columns = ['Title_1',\"Title_2\"]\n",
    "res_title.replace(['None',np.NaN], 'MISSING', inplace = True)\n",
    "\n",
    "\n",
    "\n",
    "# Preparing the Cuisines column\n",
    "res_cuisines = pd.DataFrame(res['CUISINES'].str.split(',').tolist())\n",
    "res_cuisines. columns = ['Cuisine_1','Cuisine_2','Cuisine_3','Cuisine_4','Cuisine_5','Cuisine_6','Cuisine_7','Cuisine_8']\n",
    "res_cuisines.replace(['None',np.NaN,''], 'MISSING', inplace = True)\n",
    "\n",
    "\n",
    "\n",
    "# Preparing Votes column\n",
    "res['VOTES']=res['VOTES'].astype(str)\n",
    "res_votes = pd.DataFrame(res['VOTES'].str.split(' ').tolist())\n",
    "res_votes.columns = ['Votes_1','Votes_2']\n",
    "res_votes.replace(['None',np.NaN,'','nan'], 'MISSING', inplace = True)\n",
    "\n",
    "\n",
    "\n",
    "# Preparing Rating column\n",
    "res['RATING'].replace(['None',np.NaN,'-','nan'], np.NaN, inplace = True)\n",
    "\n",
    "\n",
    "\n",
    "# Reorganizing city column\n",
    "res['CITY'] = res['CITY'].astype(str)\n",
    "res['CITY'].replace(['UttarPradesh','Telangana','TamilNadu','Kerala','Karnataka','Maharashtra','India','nan',\n",
    "                     'NearRelianceFresh','OuterRingroad'], 'MISSING', inplace = True)\n",
    "res['CITY'].replace(['IOBBankKamalaNagar','WestMaredpally','Secunderbad','Secunderabad.','Secunderabad.WEHAVENOBRANCHES.',\n",
    "                     'SecunderabadECIL','SecunderabadmainroadnearsignalNMRECCOLLEGE'],'Secunderabad', inplace = True)\n",
    "res['CITY'].replace(['Kerala682018','Kerala682028','682036','Vyttila','AluvaCircle','Thykoodam','Thykoodam','Kerala682021',\n",
    "                     'Kerala682015','Kerala682022',\n",
    "                     'Kerala682305','Kerala682018' 'Kerala682028','Kerala682024','Kerala682304', 'Kerala682001India',\n",
    "                     'MGRoadErnakulam','Ernakulam','Kerala682036',682024,'682035.',682036],'Ernakulam', inplace = True)\n",
    "res['CITY'].replace(['Pallimukku','Elamakkara','PanampillyNagar','Perumbavoor','Palarivattom','p.oKochi','Nedumbassery',\n",
    "                     'chullickal','KochiPanampillyNagar','aluvacircle','Aluva', 'KochiAluva102', 'FortKochi','Kochi-16',\n",
    "                     'KochiInternationalAirportVIPRoad' ,'KochiKakkanad','Kochi-18' ,'KochiRavipuram','kochi',\n",
    "                     'Kerala682013','Kerala683104','Kochi.','KochiChullickal','Kochi-683101' ,'Kaloor','KochiPalarivattom',\n",
    "                     'KochiVyttila','PonnuruniKochi','KochiElamkulam','ErnakulamCirclekochi'],'Kochi', inplace = True)\n",
    "res['CITY'].replace(['NoidaExtention','Sector-6Noida201301','NearSector110Noida','GreaterNoida','Sector51Noida'],\n",
    "                    'Noida', inplace = True)\n",
    "res['CITY'].replace(['Kukatapally','BKGuda','Champapet','Lingampally','Dilsukhnagar','Kukatpally','Attapur.',\n",
    "                     'RajivgandhiNagar','Telangana500003','HitechCity','Madhapur','Gandipet','Mehdipatnam' ,'Kondapur',\n",
    "                     'Telangana500027','Hyderaba','Nizampet',\n",
    "                     'HyderabadManikonda', 'Manikonda','BegumpetHyderabad','Begumpet','Telangana500081','hyderabad',\n",
    "                     'JubileeHills','Telengana','BanjaraHills','GachibowliHyderabad','NearSantoshBanjaraHyderabad',\n",
    "                     'Hyderabad-500032','Telangana500032','Telangana500034','Hyderabad.','HyderabadBehindVacsPastries',\n",
    "                     'Hyderabadneerusemporium.','Gachibowli','Kothaguda',\n",
    "                     'TelaganaLandLine:040-48507016'],'Hyderabad', inplace = True)\n",
    "res['CITY'].replace(['Nungambakkam','AndavarNagar','Kolathur','OMRKarapakkam','Potheri','NallathambiMainRoad','SathyaNagar'\n",
    "                     ,'Medavakkam','Perungudi','Pallavaram' ,'Velachery','BesantNagar','ChennaiVelachery','chennai',\n",
    "                     'Chennai-34Landmark-NearLoyolaCollege','AnnaNagarWest','ChennaiMahabalipuram','Mahabalipuram' ,\n",
    "                     'ChennaiOpposite5CBusstand' ,'ChennaiPadur','Chennai40','ChennaiInjambakkam', \n",
    "                     'BalavinayagarNagarChennai','T-NagarChennai','Chennai-600018','chennai-119',\n",
    "                     'Chenna','ChennaiKovalam','Chennaiopp:Vasanth&co',\n",
    "                     'Mogappair.Chennai', 'ChennaiPerungudi', 'ChennaiThuraipakkam', 'ChennaiThousandLights',\n",
    "                     'Chennai-600107','ECRNEELANKARAIChennai600115', 'Chennai.', 'Chennai(BangOppositeIndianBank)',\n",
    "                     'Chennai-40', 'ChennaiChrompet','Chennai.(NearHotelMatshya)','AnnaNagarEast' ,\n",
    "                     'Sholinganallur.Chennai','Chennai(AboveBombayBrasserie)' ,'Chennai37','Chennai600040',\n",
    "                     'Chennai-600008','Chennai-600040','Chennai600034.','Arumbakkamchennai-600106.','DewanRamaRoad',\n",
    "                     'Semmancheri','ChennaiTeynampet'],'Chennai', inplace = True)\n",
    "res['CITY'].replace(['GurgaonHaryana','NewDelhi110011','Gurugram','RodeoDriveSector49',\n",
    "                     'PVRplazacinemabuildingConnaughtPlace','NewDelhi110075',\n",
    "                     'Amritkaurmarketoppositenewdelhirailwaystationpaharganj','Gurgoan','Faridabd','DLFGalleria',\n",
    "                     'Kalkaji','Delh.','NewDelhi110011''GurgaonHaryana','Janakpuri','Dist.CenterNewDelhi' ,\n",
    "                     'IndiaGateNewDelhi','Girgaum',\n",
    "                     'GreaterKailash1(GK1)NewDelhi','Haryana','Gurgaon','VaishaliGhaziabad','Sector7Dwarka',\n",
    "                     'GurgaonHaryanaIndia','NewDelhi..NearbySBIbank','NearRamlilaGround','OldDelhi',\n",
    "                     '6&7-4/64SubhashNagar','AshokViharPhase1','Saket','Pitampura','ChanderNagarNewDelhi',\n",
    "                     'NewDelhi.','NewDelhi-110024','GreaterKailash2NewDelhi','Delhi110085',\n",
    "                     'KarolBagh','Rohini','DelhiNCR','Dwarka','oppgurudwaraShakurpur','Delhi'],'NewDelhi', inplace = True)\n",
    "res['CITY'].replace(['B.B.M.PEast(Karnataka)-560049','Karnataka560037','Karnataka560043' ,'Karnataka560102','SGPalya',\n",
    "                     'ThammenahalliVillage','Karnataka560103','HBRLayout',\n",
    "                     'Sarjapur','BTMLayout','VijayaNagar','RajarajeshwariNagarbangalore','JPNagar', 'Marathahalli' ,\n",
    "                     'KanakapuraRoadBanglore','Banglaore','Bangalorelandmarkabovemahaveerhardware','Phase1Bangalore',\n",
    "                     'Bangalore560076',\n",
    "                     'MalleshwaramBangalore', 'BangaloreRoad', 'KadubesanahalliBangalore','Whitefield','Bangalore-560095',\n",
    "                     'Bangalore-560103','BrigadeRoad','HSRLayout' ,'OffBrigadeRoad','Banaswadi(NexttoIndianBank)Bangalore',\n",
    "                     'BTMBangalore','BangaloreKoramangala7thBlock','bangalore:560085',\n",
    "                     'CPRlayoutharlurmainroadoppositetoozoneevergreenapartmentBangalore-','HosurRoad','Bangalore.',\n",
    "                     'Bangalore-560076', 'JPNagarBangalore','WhitefieldBangalore','Banglore',\n",
    "                     'Bengaluru','Bengalore','5thMainTeachersColonyKoramangalaBlock1Bangalore560034', 'Bangalor',\n",
    "                     'Bangalore-560066'],'Bangalore', inplace = True)\n",
    "res['CITY'].replace(['Maharashtra400102','Maharashtra400092','Maharashtra400092','NaviMumbai.','MumbaiMahim','DombivaliEast'\n",
    "                     ,'Kandivali','Thane','oppmukteshwarashrampowai','Rajanpada','PokhranRoad2','MulundWest','Chowpatty',\n",
    "                     'VirarMumbai','ChurchStreet','MumbaiVeeraDesaiArea','MumbaiUlhasnagar',\n",
    "                     'JogeshwariWestMumbai','Miraraodeast','MumbaiChakala','BorivaliWest','Mumbai400070','KandivaliWest',\n",
    "                     'Thane(W)','ThaneWest','ThaneWestThaneWest''NearAndheriWestStation','ThaneMumbai',\n",
    "                     'Jogeshwari(w)Mumbai','MumbaiChakala','BorivaliWest','BorivaliEast.' ,'WestMumbai','navimumbai',\n",
    "                     'VasaiWest.','Mahim','GrantRoadWest','Mumbai-400007','NayaNagarMiraRoad','LowerParel','Mumbai.',\n",
    "                     'MumbaiAndheriEast', 'VirarWest','MarineDrive','Bhayandar''Khar(west)','kharwest',\n",
    "                     'MumbaiDombivaliEast','Powai','KalyanWest','GrantRoadWest','Mumbai-400007','NayaNagarMiraRoad',\n",
    "                     'LowerParel','Mumbai.','MumbaiAndheriEast', \n",
    "                     'VirarWest','MarineDrive','Bhayandar','Khar(west)','kharwest','MumbaiDombivaliEast','Powai',\n",
    "                     'Mumbai-400013','AndheriwestMumbai','BandraW','Mumbai-80','AndheriLokhandwala.','EastMumbai',\n",
    "                     'Kalyan','BadlapurWest.','LowerParelWest','Navi-Mumbai' ,'Mulundwest',\n",
    "                     'MumbaiThisisaDelivery&Take-awayRestaurantonly.','Vasaiwest','BorivaliWest.''GolfCourseRoad',\n",
    "                     'KharMumbai','VasaiMumbai','NearAndheriEastStation', 'MiraRoadThaneMumbai',\n",
    "                     'Kurla(W)','Mumbai400015','Dombivli', 'MohammadAliRoadMumbai','KurlaMumbai','MumbaiMumbra',\n",
    "                     'Miumbai','Borivali(W)Mumbai:400092.' 'DombivaliEast','Kandivali''MumbaiMahim',\n",
    "                     'Powai(NexttoPowaiPlaza)','MulundEast','GoregaonWest','Chembur.','AndheriLokhandwala',\n",
    "                     'AndheriWest','MaladEast','BandraWest','Borivali(W)Mumbai:400092.'],'Mumbai', inplace = True)\n",
    "\n",
    "\n",
    "# combining all dataframes:\n",
    "res_total = pd.concat([res,res_title,res_cuisines,res_votes], axis =1)\n",
    "# Droping duplicated information\n",
    "res_total.drop(['TITLE', 'RESTAURANT_ID', 'CUISINES', 'TIME','VOTES','Votes_2','LOCALITY'],axis = 1, inplace =True)\n",
    "\n",
    "\n",
    "# Filling null values in rating with title wide mean assuming new restaurants would try to compete with restaurants of \n",
    "# similar types\n",
    "res_total['RATING'] = (res_total.groupby('Title_1')).transform(lambda x: x.fillna(x.mean()))\n"
   ]
  },
  {
   "cell_type": "code",
   "execution_count": 571,
   "metadata": {},
   "outputs": [],
   "source": [
    "# Encoding the required Data\n",
    "from sklearn.preprocessing import LabelEncoder\n",
    "le = LabelEncoder()\n",
    "val = ['CITY', 'RATING','Title_1', 'Title_2', 'Cuisine_1', 'Cuisine_2', 'Cuisine_3','Cuisine_4', 'Cuisine_5', 'Cuisine_6', 'Cuisine_7', 'Cuisine_8', 'Votes_1']\n",
    "for i in val:\n",
    "    res_total[i] = le.fit_transform(res_total[i].astype(str))"
   ]
  },
  {
   "cell_type": "code",
   "execution_count": 572,
   "metadata": {},
   "outputs": [
    {
     "data": {
      "application/javascript": [
       "\n",
       "        if (window._pyforest_update_imports_cell) { window._pyforest_update_imports_cell('import numpy as np\\nimport matplotlib.pyplot as plt\\nimport seaborn as sns\\nimport pandas as pd'); }\n",
       "    "
      ],
      "text/plain": [
       "<IPython.core.display.Javascript object>"
      ]
     },
     "metadata": {},
     "output_type": "display_data"
    },
    {
     "data": {
      "application/javascript": [
       "\n",
       "        if (window._pyforest_update_imports_cell) { window._pyforest_update_imports_cell('import numpy as np\\nimport matplotlib.pyplot as plt\\nimport seaborn as sns\\nimport pandas as pd'); }\n",
       "    "
      ],
      "text/plain": [
       "<IPython.core.display.Javascript object>"
      ]
     },
     "metadata": {},
     "output_type": "display_data"
    },
    {
     "data": {
      "image/png": "[encoded data removed]",
      "text/plain": [
       "<Figure size 720x360 with 1 Axes>"
      ]
     },
     "metadata": {
      "needs_background": "light"
     },
     "output_type": "display_data"
    }
   ],
   "source": [
    "# Checking Coorelation\n",
    "res_total.drop(['COST'],axis=1).corrwith(res_total['COST']).plot(kind ='bar', figsize =(10,5))\n",
    "plt.title('Correlation Plot')\n",
    "plt.show()"
   ]
  },
  {
   "cell_type": "markdown",
   "metadata": {},
   "source": [
    "It can be noted that Cost has best positive correlation with City only where as best negative correlation with Title & rating, votes & cuisines"
   ]
  },
  {
   "cell_type": "code",
   "execution_count": 573,
   "metadata": {},
   "outputs": [],
   "source": [
    "#droping less correlated data.\n",
    "res_total.drop(['Cuisine_1','Cuisine_2', 'Cuisine_3', 'Cuisine_4', 'Cuisine_5', 'Cuisine_6','Cuisine_7', 'Cuisine_8',],axis = 1, inplace =True)"
   ]
  },
  {
   "cell_type": "markdown",
   "metadata": {},
   "source": [
    "## 5. Building Machine Learning Models.\n",
    "\n",
    "**Coming to the final stage, we will:**\n",
    "\n",
    "- Import all algorithms from respective libraries\n",
    "- Split data back in training data & test data based on an identifier assigned earlier, \n",
    "- Check for the best random state & best algorithm which can be modeled.\n",
    "- Once we get the best random state & the algorithm we can, hypertune parameters, build and train our model\n",
    "- Finally, save it as object file & reload when required to predict.\n",
    "- Ultimately putting model to use."
   ]
  },
  {
   "cell_type": "code",
   "execution_count": 574,
   "metadata": {},
   "outputs": [],
   "source": [
    "#Importing required libraries\n",
    "from sklearn.linear_model import LinearRegression, Lasso, Ridge, ElasticNet\n",
    "from sklearn.ensemble import RandomForestRegressor, AdaBoostRegressor, GradientBoostingRegressor\n",
    "from sklearn.tree import DecisionTreeRegressor\n",
    "from sklearn.model_selection import train_test_split, cross_val_score\n",
    "from xgboost.sklearn import XGBRegressor\n",
    "from sklearn.metrics import r2_score, mean_absolute_error, mean_squared_error"
   ]
  },
  {
   "cell_type": "code",
   "execution_count": 575,
   "metadata": {},
   "outputs": [],
   "source": [
    "# Segrigating data into x & y\n",
    "train = res_total.loc[res_total['Identify']== 'Train']\n",
    "test = res_total.loc[res_total['Identify']== 'Test']\n",
    "x = train.drop(['COST','Identify'], axis = 1)\n",
    "y = train['COST']\n",
    "testy = (test.drop(['COST','Identify'], axis = 1))"
   ]
  },
  {
   "cell_type": "code",
   "execution_count": 576,
   "metadata": {},
   "outputs": [
    {
     "name": "stdout",
     "output_type": "stream",
     "text": [
      "The best random state is 67 with accuracy is 18.71162637558761%\n"
     ]
    }
   ],
   "source": [
    "# identifying best random state\n",
    "best_random_state = 0\n",
    "accu = 0\n",
    "for i in range(30,100):\n",
    "    x_train,x_test,y_train,y_test = train_test_split(x,y,test_size =0.22, random_state = i)\n",
    "    lr = LinearRegression()\n",
    "    lr.fit(x_train,y_train)\n",
    "    predlr = lr.predict(x_test)\n",
    "    r2s = r2_score(y_test,predlr)\n",
    "    if r2s > accu:\n",
    "        accu = r2s\n",
    "        best_random_state = i\n",
    "        \n",
    "        \n",
    "print(f'The best random state is {best_random_state} with accuracy is {accu *100}%')"
   ]
  },
  {
   "cell_type": "code",
   "execution_count": 577,
   "metadata": {},
   "outputs": [
    {
     "name": "stdout",
     "output_type": "stream",
     "text": [
      "For algorithm LinearRegression() R2 Score is 18.71162637558761\n",
      "For algorithm LinearRegression() mean Sqr Error is 28818112.316950697\n",
      "For algorithm LinearRegression() mean abs. error is 32284.921896674365\n",
      "For algorithm LinearRegression() cross validation score is 15.375217553828492\n",
      "Difference between r2 score & cv score = 3.336408821759118\n",
      "\n",
      "+++++++++++++++++++++++++++++++++++++++++++++++++++++++++++++++++++++++++++++++++++++++++++++\n",
      "For algorithm Lasso(alpha=0.001) R2 Score is 18.71162345821331\n",
      "For algorithm Lasso(alpha=0.001) mean Sqr Error is 28818113.351209547\n",
      "For algorithm Lasso(alpha=0.001) mean abs. error is 32284.924080246798\n",
      "For algorithm Lasso(alpha=0.001) cross validation score is 15.375217369309082\n",
      "Difference between r2 score & cv score = 3.336406088904228\n",
      "\n",
      "+++++++++++++++++++++++++++++++++++++++++++++++++++++++++++++++++++++++++++++++++++++++++++++\n",
      "For algorithm Ridge(alpha=0.001) R2 Score is 18.71162636724374\n",
      "For algorithm Ridge(alpha=0.001) mean Sqr Error is 28818112.319908738\n",
      "For algorithm Ridge(alpha=0.001) mean abs. error is 32284.921903293234\n",
      "For algorithm Ridge(alpha=0.001) cross validation score is 15.37521755348516\n",
      "Difference between r2 score & cv score = 3.3364088137585792\n",
      "\n",
      "+++++++++++++++++++++++++++++++++++++++++++++++++++++++++++++++++++++++++++++++++++++++++++++\n",
      "For algorithm ElasticNet(alpha=0.001) R2 Score is 18.711583661950847\n",
      "For algorithm ElasticNet(alpha=0.001) mean Sqr Error is 28818127.459662087\n",
      "For algorithm ElasticNet(alpha=0.001) mean abs. error is 32284.955767439955\n",
      "For algorithm ElasticNet(alpha=0.001) cross validation score is 15.375215496358496\n",
      "Difference between r2 score & cv score = 3.3363681655923507\n",
      "\n",
      "+++++++++++++++++++++++++++++++++++++++++++++++++++++++++++++++++++++++++++++++++++++++++++++\n",
      "For algorithm RandomForestRegressor() R2 Score is 95.22665869408286\n",
      "For algorithm RandomForestRegressor() mean Sqr Error is 1692230.7551217764\n",
      "For algorithm RandomForestRegressor() mean abs. error is 1210.4985673352437\n",
      "For algorithm RandomForestRegressor() cross validation score is 92.57821404460927\n",
      "Difference between r2 score & cv score = 2.648444649473589\n",
      "\n",
      "+++++++++++++++++++++++++++++++++++++++++++++++++++++++++++++++++++++++++++++++++++++++++++++\n",
      "For algorithm AdaBoostRegressor() R2 Score is -170.77272685990926\n",
      "For algorithm AdaBoostRegressor() mean Sqr Error is 95993541.35278755\n",
      "For algorithm AdaBoostRegressor() mean abs. error is 88791.39977875254\n",
      "For algorithm AdaBoostRegressor() cross validation score is -60.04050618541926\n",
      "Difference between r2 score & cv score = -110.73222067449\n",
      "\n",
      "+++++++++++++++++++++++++++++++++++++++++++++++++++++++++++++++++++++++++++++++++++++++++++++\n",
      "For algorithm DecisionTreeRegressor() R2 Score is 95.85966623983389\n",
      "For algorithm DecisionTreeRegressor() mean Sqr Error is 1467818.8037249283\n",
      "For algorithm DecisionTreeRegressor() mean abs. error is 787.2134670487105\n",
      "For algorithm DecisionTreeRegressor() cross validation score is 87.58280376015905\n",
      "Difference between r2 score & cv score = 8.276862479674833\n",
      "\n",
      "+++++++++++++++++++++++++++++++++++++++++++++++++++++++++++++++++++++++++++++++++++++++++++++\n",
      "For algorithm XGBRegressor(base_score=0.5, booster='gbtree', colsample_bylevel=1,\n",
      "             colsample_bynode=1, colsample_bytree=1, gamma=0, gpu_id=-1,\n",
      "             importance_type='gain', interaction_constraints='',\n",
      "             learning_rate=0.300000012, max_delta_step=0, max_depth=6,\n",
      "             min_child_weight=1, missing=nan, monotone_constraints='()',\n",
      "             n_estimators=100, n_jobs=4, num_parallel_tree=1, random_state=0,\n",
      "             reg_alpha=0, reg_lambda=1, scale_pos_weight=1, subsample=1,\n",
      "             tree_method='exact', validate_parameters=1, verbosity=None) R2 Score is 93.98836122096166\n",
      "For algorithm XGBRegressor(base_score=0.5, booster='gbtree', colsample_bylevel=1,\n",
      "             colsample_bynode=1, colsample_bytree=1, gamma=0, gpu_id=-1,\n",
      "             importance_type='gain', interaction_constraints='',\n",
      "             learning_rate=0.300000012, max_delta_step=0, max_depth=6,\n",
      "             min_child_weight=1, missing=nan, monotone_constraints='()',\n",
      "             n_estimators=100, n_jobs=4, num_parallel_tree=1, random_state=0,\n",
      "             reg_alpha=0, reg_lambda=1, scale_pos_weight=1, subsample=1,\n",
      "             tree_method='exact', validate_parameters=1, verbosity=None) mean Sqr Error is 2131228.290330008\n",
      "For algorithm XGBRegressor(base_score=0.5, booster='gbtree', colsample_bylevel=1,\n",
      "             colsample_bynode=1, colsample_bytree=1, gamma=0, gpu_id=-1,\n",
      "             importance_type='gain', interaction_constraints='',\n",
      "             learning_rate=0.300000012, max_delta_step=0, max_depth=6,\n",
      "             min_child_weight=1, missing=nan, monotone_constraints='()',\n",
      "             n_estimators=100, n_jobs=4, num_parallel_tree=1, random_state=0,\n",
      "             reg_alpha=0, reg_lambda=1, scale_pos_weight=1, subsample=1,\n",
      "             tree_method='exact', validate_parameters=1, verbosity=None) mean abs. error is 1973.064530544773\n",
      "For algorithm XGBRegressor(base_score=0.5, booster='gbtree', colsample_bylevel=1,\n",
      "             colsample_bynode=1, colsample_bytree=1, gamma=0, gpu_id=-1,\n",
      "             importance_type='gain', interaction_constraints='',\n",
      "             learning_rate=0.300000012, max_delta_step=0, max_depth=6,\n",
      "             min_child_weight=1, missing=nan, monotone_constraints='()',\n",
      "             n_estimators=100, n_jobs=4, num_parallel_tree=1, random_state=0,\n",
      "             reg_alpha=0, reg_lambda=1, scale_pos_weight=1, subsample=1,\n",
      "             tree_method='exact', validate_parameters=1, verbosity=None) cross validation score is 90.3670339490386\n",
      "Difference between r2 score & cv score = 3.6213272719230645\n",
      "\n",
      "+++++++++++++++++++++++++++++++++++++++++++++++++++++++++++++++++++++++++++++++++++++++++++++\n",
      "For algorithm GradientBoostingRegressor() R2 Score is 82.42941055255332\n",
      "For algorithm GradientBoostingRegressor() mean Sqr Error is 6229073.08382266\n",
      "For algorithm GradientBoostingRegressor() mean abs. error is 9969.541866479312\n",
      "For algorithm GradientBoostingRegressor() cross validation score is 81.58756342175025\n",
      "Difference between r2 score & cv score = 0.8418471308030746\n",
      "\n",
      "+++++++++++++++++++++++++++++++++++++++++++++++++++++++++++++++++++++++++++++++++++++++++++++\n"
     ]
    }
   ],
   "source": [
    "#Identifying best Algorithm\n",
    "import warnings\n",
    "warnings.filterwarnings('ignore')\n",
    "models=[LinearRegression(),Lasso(alpha =0.001),Ridge(alpha =0.001),ElasticNet(alpha =0.001), RandomForestRegressor(),\n",
    "      AdaBoostRegressor(), DecisionTreeRegressor(), XGBRegressor(), GradientBoostingRegressor()]\n",
    "for m in models:\n",
    "    x_train,x_test,y_train,y_test = train_test_split(x,y,test_size = 0.22, random_state = 67)\n",
    "    m.fit(x_train,y_train)\n",
    "    pred = m.predict(x_test)\n",
    "    cv_score = cross_val_score(m,x,y,cv= 10).mean()\n",
    "    print(f'For algorithm {m} R2 Score is {r2_score(y_test,pred)*100}')\n",
    "    print(f'For algorithm {m} mean Sqr Error is {mean_squared_error(y_test,pred)*100}')\n",
    "    print(f'For algorithm {m} mean abs. error is {mean_absolute_error(y_test,pred)*100}')\n",
    "    print(f'For algorithm {m} cross validation score is {cv_score*100}')\n",
    "    print(f'Difference between r2 score & cv score = {(r2_score(y_test,pred)*100)-(cv_score*100)}\\n')\n",
    "    print('+++++++++++++++++++++++++++++++++++++++++++++++++++++++++++++++++++++++++++++++++++++++++++++')"
   ]
  },
  {
   "cell_type": "raw",
   "metadata": {},
   "source": [
    "We can see that Random Forest Regressor has delivered the best CV score with least MAE where as MSE is bit higher than XGBoost regressor. Though there can be various ways to identify best algorithm here we have used K-Fold cross validation and mean square error with mean absolute error collectively.Random Forest is a very good algorithm at classification but not as for regression problem as it does not gives precise continuous nature prediction. In case of regression, it doesn't predict beyond the range in the training data, and that they may over fit data sets that are particularly noisy.Typically like this dataset hence model can be built using XGBoost Regressor."
   ]
  },
  {
   "cell_type": "code",
   "execution_count": 578,
   "metadata": {},
   "outputs": [
    {
     "name": "stdout",
     "output_type": "stream",
     "text": [
      "{'booster': 'dart'}\n",
      "0.9146671346985793\n"
     ]
    }
   ],
   "source": [
    "# Hyperparameter tuning\n",
    "from sklearn.model_selection import GridSearchCV\n",
    "parameters = {'booster':['gbtree', 'gblinear','dart']}\n",
    "clf = GridSearchCV(XGBRegressor(),parameters)\n",
    "clf.fit(x_train,y_train)\n",
    "print(clf.best_params_)\n",
    "print(clf.best_score_)"
   ]
  },
  {
   "cell_type": "code",
   "execution_count": 579,
   "metadata": {},
   "outputs": [
    {
     "name": "stdout",
     "output_type": "stream",
     "text": [
      "R2 Score is 94.0%\n",
      "Mean Sqr Error is 2131228.0%\n",
      "Mean abs. error is 1973.0%\n",
      "Cross validation score is 90.0%\n",
      "Difference between r2 score & cv score = 3.621327555495185\n",
      "\n",
      "+++++++++++++++++++++++++++++++++++++++++++++++++++++++++++++++++++++++++++++++++++++++++++++\n"
     ]
    }
   ],
   "source": [
    "# Model Building\n",
    "x_train,x_test,y_train,y_test = train_test_split(x,y,test_size = 0.22, random_state = 67)\n",
    "xgbr = XGBRegressor(booster ='dart')\n",
    "xgbr.fit(x_train,y_train)\n",
    "pred = xgbr.predict(x_test)\n",
    "cv_score = cross_val_score(xgbr,x,y,cv= 10).mean()\n",
    "print(f'R2 Score is {round(r2_score(y_test,pred)*100)}%')\n",
    "print(f'Mean Sqr Error is {round(mean_squared_error(y_test,pred)*100)}%')\n",
    "print(f'Mean abs. error is {round(mean_absolute_error(y_test,pred)*100)}%')\n",
    "print(f'Cross validation score is {round(cv_score*100)}%')\n",
    "print(f'Difference between r2 score & cv score = {(r2_score(y_test,pred)*100)-(cv_score*100)}\\n')\n",
    "print('+++++++++++++++++++++++++++++++++++++++++++++++++++++++++++++++++++++++++++++++++++++++++++++')"
   ]
  },
  {
   "cell_type": "markdown",
   "metadata": {},
   "source": [
    "### Saving the Model\n",
    "\n",
    "We can save our trained model using joblib library and recall it when needed"
   ]
  },
  {
   "cell_type": "code",
   "execution_count": 580,
   "metadata": {},
   "outputs": [
    {
     "data": {
      "text/plain": [
       "['Restaurant_cost_pred.obj']"
      ]
     },
     "execution_count": 580,
     "metadata": {},
     "output_type": "execute_result"
    }
   ],
   "source": [
    "import joblib\n",
    "joblib.dump(xgbr,'Restaurant_cost_pred.obj')"
   ]
  },
  {
   "cell_type": "code",
   "execution_count": 581,
   "metadata": {},
   "outputs": [],
   "source": [
    "rcp = joblib.load('Restaurant_cost_pred.obj')"
   ]
  },
  {
   "cell_type": "code",
   "execution_count": 582,
   "metadata": {},
   "outputs": [],
   "source": [
    "ypred = rcp.predict(testy)"
   ]
  },
  {
   "cell_type": "code",
   "execution_count": 583,
   "metadata": {},
   "outputs": [
    {
     "data": {
      "application/javascript": [
       "\n",
       "        if (window._pyforest_update_imports_cell) { window._pyforest_update_imports_cell('import numpy as np\\nimport matplotlib.pyplot as plt\\nimport seaborn as sns\\nimport pandas as pd'); }\n",
       "    "
      ],
      "text/plain": [
       "<IPython.core.display.Javascript object>"
      ]
     },
     "metadata": {},
     "output_type": "display_data"
    }
   ],
   "source": [
    "ypred=pd.DataFrame(ypred)"
   ]
  },
  {
   "cell_type": "code",
   "execution_count": 584,
   "metadata": {},
   "outputs": [],
   "source": [
    "ypred.to_csv('Pred_restaurant_cost.csv')"
   ]
  },
  {
   "cell_type": "code",
   "execution_count": 585,
   "metadata": {},
   "outputs": [],
   "source": [
    "y_ts = rcp.predict(x)"
   ]
  },
  {
   "cell_type": "code",
   "execution_count": 586,
   "metadata": {},
   "outputs": [
    {
     "name": "stdout",
     "output_type": "stream",
     "text": [
      "R2 Score =  98.76116855968947\n",
      "Mean Sqr Error = 2131228.2324623903\n",
      "Mean abs. error = 1973.0648411720736\n"
     ]
    }
   ],
   "source": [
    "print('R2 Score = ',r2_score(y,y_ts)*100)\n",
    "print(f'Mean Sqr Error = {mean_squared_error(y_test,pred)*100}')\n",
    "print(f'Mean abs. error = {mean_absolute_error(y_test,pred)*100}')"
   ]
  },
  {
   "cell_type": "code",
   "execution_count": 637,
   "metadata": {},
   "outputs": [
    {
     "data": {
      "application/javascript": [
       "\n",
       "        if (window._pyforest_update_imports_cell) { window._pyforest_update_imports_cell('import numpy as np\\nimport matplotlib.pyplot as plt\\nimport seaborn as sns\\nimport pandas as pd'); }\n",
       "    "
      ],
      "text/plain": [
       "<IPython.core.display.Javascript object>"
      ]
     },
     "metadata": {},
     "output_type": "display_data"
    },
    {
     "data": {
      "application/javascript": [
       "\n",
       "        if (window._pyforest_update_imports_cell) { window._pyforest_update_imports_cell('import numpy as np\\nimport matplotlib.pyplot as plt\\nimport seaborn as sns\\nimport pandas as pd'); }\n",
       "    "
      ],
      "text/plain": [
       "<IPython.core.display.Javascript object>"
      ]
     },
     "metadata": {},
     "output_type": "display_data"
    },
    {
     "data": {
      "application/javascript": [
       "\n",
       "        if (window._pyforest_update_imports_cell) { window._pyforest_update_imports_cell('import numpy as np\\nimport matplotlib.pyplot as plt\\nimport seaborn as sns\\nimport pandas as pd'); }\n",
       "    "
      ],
      "text/plain": [
       "<IPython.core.display.Javascript object>"
      ]
     },
     "metadata": {},
     "output_type": "display_data"
    },
    {
     "data": {
      "image/png": "[encoded data removed]",
      "text/plain": [
       "<Figure size 432x288 with 1 Axes>"
      ]
     },
     "metadata": {
      "needs_background": "light"
     },
     "output_type": "display_data"
    }
   ],
   "source": [
    "sns.scatterplot(y,y_ts)\n",
    "plt.title('True-Y Vs Predicted-Y')\n",
    "plt.show()"
   ]
  },
  {
   "cell_type": "markdown",
   "metadata": {},
   "source": [
    "## 6. Concluding Remarks.\n",
    "With XGBoost Regressor we can achieve a CV score of 90%, MSE of 2131228 and MAE of 1973. Though the accuracy is satisfactory for a general business problem since our model can predict value within an error of ± 10% but has room for improvement since mean square error & mean absolute errors are high. This indicates dataset can still be filtered."
   ]
  }
 ],
 "metadata": {
  "kernelspec": {
   "display_name": "Python 3",
   "language": "python",
   "name": "python3"
  },
  "language_info": {
   "codemirror_mode": {
    "name": "ipython",
    "version": 3
   },
   "file_extension": ".py",
   "mimetype": "text/x-python",
   "name": "python",
   "nbconvert_exporter": "python",
   "pygments_lexer": "ipython3",
   "version": "3.8.3"
  }
 },
 "nbformat": 4,
 "nbformat_minor": 4
}
